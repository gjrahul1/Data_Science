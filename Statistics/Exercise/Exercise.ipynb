{
 "cells": [
  {
   "cell_type": "markdown",
   "id": "1f26a294-588c-434b-8356-d49cc078ca6c",
   "metadata": {},
   "source": [
    "### Problem Statement\n",
    "You are given bhp.csv which contains property prices in the city of banglore, India. \n",
    "You need to examine price_per_sqft column and do following,\n",
    "\n",
    "1. Remove outliers using percentile technique first. Use [0.001, 0.999] for lower and upper bound percentiles\n",
    "2. After removing outliers in step 1, you get a new dataframe.\n",
    "3. On step(2) dataframe, use 4 standard deviation to remove outliers\n",
    "4. Plot histogram for new dataframe that is generated after step (3). Also plot bell curve on same histogram\n",
    "5. On step(2) dataframe, use zscore of 4 to remove outliers.\n",
    "6. This is quite similar to step (3) and you will get exact same result"
   ]
  },
  {
   "cell_type": "code",
   "execution_count": 1,
   "id": "d77a8fa6-5a5b-4ff8-b65d-f055431b21f4",
   "metadata": {},
   "outputs": [],
   "source": [
    "#importing the necessary packages\n",
    "import numpy as np\n",
    "import pandas as pd"
   ]
  },
  {
   "cell_type": "code",
   "execution_count": 3,
   "id": "b9723e2a-38f9-4e7b-8ee3-19435b1a1211",
   "metadata": {},
   "outputs": [
    {
     "data": {
      "text/html": [
       "<div>\n",
       "<style scoped>\n",
       "    .dataframe tbody tr th:only-of-type {\n",
       "        vertical-align: middle;\n",
       "    }\n",
       "\n",
       "    .dataframe tbody tr th {\n",
       "        vertical-align: top;\n",
       "    }\n",
       "\n",
       "    .dataframe thead th {\n",
       "        text-align: right;\n",
       "    }\n",
       "</style>\n",
       "<table border=\"1\" class=\"dataframe\">\n",
       "  <thead>\n",
       "    <tr style=\"text-align: right;\">\n",
       "      <th></th>\n",
       "      <th>location</th>\n",
       "      <th>size</th>\n",
       "      <th>total_sqft</th>\n",
       "      <th>bath</th>\n",
       "      <th>price</th>\n",
       "      <th>bhk</th>\n",
       "      <th>price_per_sqft</th>\n",
       "    </tr>\n",
       "  </thead>\n",
       "  <tbody>\n",
       "    <tr>\n",
       "      <th>0</th>\n",
       "      <td>Electronic City Phase II</td>\n",
       "      <td>2 BHK</td>\n",
       "      <td>1056.0</td>\n",
       "      <td>2.0</td>\n",
       "      <td>39.07</td>\n",
       "      <td>2</td>\n",
       "      <td>3699</td>\n",
       "    </tr>\n",
       "    <tr>\n",
       "      <th>1</th>\n",
       "      <td>Chikka Tirupathi</td>\n",
       "      <td>4 Bedroom</td>\n",
       "      <td>2600.0</td>\n",
       "      <td>5.0</td>\n",
       "      <td>120.00</td>\n",
       "      <td>4</td>\n",
       "      <td>4615</td>\n",
       "    </tr>\n",
       "    <tr>\n",
       "      <th>2</th>\n",
       "      <td>Uttarahalli</td>\n",
       "      <td>3 BHK</td>\n",
       "      <td>1440.0</td>\n",
       "      <td>2.0</td>\n",
       "      <td>62.00</td>\n",
       "      <td>3</td>\n",
       "      <td>4305</td>\n",
       "    </tr>\n",
       "    <tr>\n",
       "      <th>3</th>\n",
       "      <td>Lingadheeranahalli</td>\n",
       "      <td>3 BHK</td>\n",
       "      <td>1521.0</td>\n",
       "      <td>3.0</td>\n",
       "      <td>95.00</td>\n",
       "      <td>3</td>\n",
       "      <td>6245</td>\n",
       "    </tr>\n",
       "    <tr>\n",
       "      <th>4</th>\n",
       "      <td>Kothanur</td>\n",
       "      <td>2 BHK</td>\n",
       "      <td>1200.0</td>\n",
       "      <td>2.0</td>\n",
       "      <td>51.00</td>\n",
       "      <td>2</td>\n",
       "      <td>4250</td>\n",
       "    </tr>\n",
       "    <tr>\n",
       "      <th>...</th>\n",
       "      <td>...</td>\n",
       "      <td>...</td>\n",
       "      <td>...</td>\n",
       "      <td>...</td>\n",
       "      <td>...</td>\n",
       "      <td>...</td>\n",
       "      <td>...</td>\n",
       "    </tr>\n",
       "    <tr>\n",
       "      <th>13195</th>\n",
       "      <td>Whitefield</td>\n",
       "      <td>5 Bedroom</td>\n",
       "      <td>3453.0</td>\n",
       "      <td>4.0</td>\n",
       "      <td>231.00</td>\n",
       "      <td>5</td>\n",
       "      <td>6689</td>\n",
       "    </tr>\n",
       "    <tr>\n",
       "      <th>13196</th>\n",
       "      <td>other</td>\n",
       "      <td>4 BHK</td>\n",
       "      <td>3600.0</td>\n",
       "      <td>5.0</td>\n",
       "      <td>400.00</td>\n",
       "      <td>4</td>\n",
       "      <td>11111</td>\n",
       "    </tr>\n",
       "    <tr>\n",
       "      <th>13197</th>\n",
       "      <td>Raja Rajeshwari Nagar</td>\n",
       "      <td>2 BHK</td>\n",
       "      <td>1141.0</td>\n",
       "      <td>2.0</td>\n",
       "      <td>60.00</td>\n",
       "      <td>2</td>\n",
       "      <td>5258</td>\n",
       "    </tr>\n",
       "    <tr>\n",
       "      <th>13198</th>\n",
       "      <td>Padmanabhanagar</td>\n",
       "      <td>4 BHK</td>\n",
       "      <td>4689.0</td>\n",
       "      <td>4.0</td>\n",
       "      <td>488.00</td>\n",
       "      <td>4</td>\n",
       "      <td>10407</td>\n",
       "    </tr>\n",
       "    <tr>\n",
       "      <th>13199</th>\n",
       "      <td>Doddathoguru</td>\n",
       "      <td>1 BHK</td>\n",
       "      <td>550.0</td>\n",
       "      <td>1.0</td>\n",
       "      <td>17.00</td>\n",
       "      <td>1</td>\n",
       "      <td>3090</td>\n",
       "    </tr>\n",
       "  </tbody>\n",
       "</table>\n",
       "<p>13200 rows × 7 columns</p>\n",
       "</div>"
      ],
      "text/plain": [
       "                       location       size  total_sqft  bath   price  bhk  \\\n",
       "0      Electronic City Phase II      2 BHK      1056.0   2.0   39.07    2   \n",
       "1              Chikka Tirupathi  4 Bedroom      2600.0   5.0  120.00    4   \n",
       "2                   Uttarahalli      3 BHK      1440.0   2.0   62.00    3   \n",
       "3            Lingadheeranahalli      3 BHK      1521.0   3.0   95.00    3   \n",
       "4                      Kothanur      2 BHK      1200.0   2.0   51.00    2   \n",
       "...                         ...        ...         ...   ...     ...  ...   \n",
       "13195                Whitefield  5 Bedroom      3453.0   4.0  231.00    5   \n",
       "13196                     other      4 BHK      3600.0   5.0  400.00    4   \n",
       "13197     Raja Rajeshwari Nagar      2 BHK      1141.0   2.0   60.00    2   \n",
       "13198           Padmanabhanagar      4 BHK      4689.0   4.0  488.00    4   \n",
       "13199              Doddathoguru      1 BHK       550.0   1.0   17.00    1   \n",
       "\n",
       "       price_per_sqft  \n",
       "0                3699  \n",
       "1                4615  \n",
       "2                4305  \n",
       "3                6245  \n",
       "4                4250  \n",
       "...               ...  \n",
       "13195            6689  \n",
       "13196           11111  \n",
       "13197            5258  \n",
       "13198           10407  \n",
       "13199            3090  \n",
       "\n",
       "[13200 rows x 7 columns]"
      ]
     },
     "execution_count": 3,
     "metadata": {},
     "output_type": "execute_result"
    }
   ],
   "source": [
    "df = pd.read_csv(r\"C:\\Users\\gjrah\\Documents\\Data Science\\Data_Science\\Statistics\\Datasets\\Normal_Distribution_&_Z_Score\\bhp.csv\")\n",
    "df"
   ]
  },
  {
   "cell_type": "markdown",
   "id": "b37cbca7-2545-4185-9714-aa52f28439c7",
   "metadata": {},
   "source": [
    "- Right now, I am assuming **we don't need size,bath and bhk**\n",
    "- I'm considering these are un-necessary columns or noise"
   ]
  },
  {
   "cell_type": "code",
   "execution_count": 7,
   "id": "992e745e-fa3f-4a6f-a834-ffaae5137317",
   "metadata": {},
   "outputs": [
    {
     "data": {
      "text/html": [
       "<div>\n",
       "<style scoped>\n",
       "    .dataframe tbody tr th:only-of-type {\n",
       "        vertical-align: middle;\n",
       "    }\n",
       "\n",
       "    .dataframe tbody tr th {\n",
       "        vertical-align: top;\n",
       "    }\n",
       "\n",
       "    .dataframe thead th {\n",
       "        text-align: right;\n",
       "    }\n",
       "</style>\n",
       "<table border=\"1\" class=\"dataframe\">\n",
       "  <thead>\n",
       "    <tr style=\"text-align: right;\">\n",
       "      <th></th>\n",
       "      <th>location</th>\n",
       "      <th>total_sqft</th>\n",
       "      <th>price</th>\n",
       "      <th>price_per_sqft</th>\n",
       "    </tr>\n",
       "  </thead>\n",
       "  <tbody>\n",
       "    <tr>\n",
       "      <th>2251</th>\n",
       "      <td>other</td>\n",
       "      <td>1020.0</td>\n",
       "      <td>37.0</td>\n",
       "      <td>3627</td>\n",
       "    </tr>\n",
       "    <tr>\n",
       "      <th>5351</th>\n",
       "      <td>Whitefield</td>\n",
       "      <td>1745.0</td>\n",
       "      <td>100.0</td>\n",
       "      <td>5730</td>\n",
       "    </tr>\n",
       "    <tr>\n",
       "      <th>9809</th>\n",
       "      <td>Electronic City</td>\n",
       "      <td>1360.0</td>\n",
       "      <td>70.0</td>\n",
       "      <td>5147</td>\n",
       "    </tr>\n",
       "  </tbody>\n",
       "</table>\n",
       "</div>"
      ],
      "text/plain": [
       "             location  total_sqft  price  price_per_sqft\n",
       "2251            other      1020.0   37.0            3627\n",
       "5351       Whitefield      1745.0  100.0            5730\n",
       "9809  Electronic City      1360.0   70.0            5147"
      ]
     },
     "execution_count": 7,
     "metadata": {},
     "output_type": "execute_result"
    }
   ],
   "source": [
    "df = df.drop(['size',\n",
    "         'bath',\n",
    "        'bhk'\n",
    "        ], axis=1)\n",
    "\n",
    "df.sample(3)"
   ]
  },
  {
   "cell_type": "code",
   "execution_count": 9,
   "id": "283eed68-8a84-4a96-b7e1-25b4957e91f5",
   "metadata": {},
   "outputs": [
    {
     "name": "stdout",
     "output_type": "stream",
     "text": [
      "<class 'pandas.core.frame.DataFrame'>\n",
      "RangeIndex: 13200 entries, 0 to 13199\n",
      "Data columns (total 4 columns):\n",
      " #   Column          Non-Null Count  Dtype  \n",
      "---  ------          --------------  -----  \n",
      " 0   location        13200 non-null  object \n",
      " 1   total_sqft      13200 non-null  float64\n",
      " 2   price           13200 non-null  float64\n",
      " 3   price_per_sqft  13200 non-null  int64  \n",
      "dtypes: float64(2), int64(1), object(1)\n",
      "memory usage: 412.6+ KB\n"
     ]
    }
   ],
   "source": [
    "df.info()"
   ]
  },
  {
   "cell_type": "markdown",
   "id": "5f958e21-2c11-4231-a318-0303e2e0a8be",
   "metadata": {},
   "source": [
    "##### I have the following data:\n",
    "- 0.0001 for Minimum Quantile Range\n",
    "- 0.999 for Maximum Quantile Range"
   ]
  },
  {
   "cell_type": "code",
   "execution_count": 10,
   "id": "bd17b4db-43f4-4560-ae70-612dbae03315",
   "metadata": {},
   "outputs": [
    {
     "data": {
      "text/plain": [
       "1366.184"
      ]
     },
     "execution_count": 10,
     "metadata": {},
     "output_type": "execute_result"
    }
   ],
   "source": [
    "#Lower Quantile Range\n",
    "lower_quantile_range = df.price_per_sqft.quantile(0.001)\n",
    "lower_quantile_range"
   ]
  },
  {
   "cell_type": "code",
   "execution_count": 12,
   "id": "b92d3fcc-8f79-4d0e-a973-8c27dbc381f2",
   "metadata": {},
   "outputs": [
    {
     "data": {
      "text/plain": [
       "50959.36200000098"
      ]
     },
     "execution_count": 12,
     "metadata": {},
     "output_type": "execute_result"
    }
   ],
   "source": [
    "#Upper Quantile Range\n",
    "upper_quantile_range = df.price_per_sqft.quantile(0.999)\n",
    "upper_quantile_range"
   ]
  },
  {
   "cell_type": "code",
   "execution_count": 15,
   "id": "3d8aab4b-de61-48ad-b932-ab615ad396eb",
   "metadata": {},
   "outputs": [
    {
     "name": "stdout",
     "output_type": "stream",
     "text": [
      "                location  total_sqft   price  price_per_sqft\n",
      "345                other        11.0    74.0          672727\n",
      "665            Yelahanka     35000.0   130.0             371\n",
      "798                other     10961.0    80.0             729\n",
      "1005               other        15.0    30.0          200000\n",
      "1106               other        24.0   150.0          625000\n",
      "1867               other     52272.0   140.0             267\n",
      "2392               other      2000.0    25.0            1250\n",
      "3934               other      1500.0    19.5            1300\n",
      "4044      Sarjapur  Road         1.0   120.0        12000000\n",
      "4924               other         5.0   115.0         2300000\n",
      "5343               other     42000.0   175.0             416\n",
      "5417              Ulsoor     36000.0   450.0            1250\n",
      "5597            JP Nagar      1100.0    15.0            1363\n",
      "5911         Mysore Road        45.0    23.0           51111\n",
      "6356        Bommenahalli      2940.0  2250.0           76530\n",
      "7012               other       650.0   500.0           76923\n",
      "7166           Yelahanka     26136.0   150.0             573\n",
      "7575               other       425.0   750.0          176470\n",
      "7799               other      2000.0  1063.0           53150\n",
      "7862            JP Nagar     20000.0   175.0             875\n",
      "8300             Kengeri      1200.0    14.0            1166\n",
      "8307   Bannerghatta Road      2500.0  1400.0           56000\n",
      "9144               other     10961.0    80.0             729\n",
      "9436        Indira Nagar      2400.0  1250.0           52083\n",
      "11447         Whitefield        60.0   218.0          363333\n",
      "11635              Begur      2400.0    12.0             500\n",
      "12328              other      4350.0  2600.0           59770\n",
      "12355              other     16335.0   149.0             912 \n",
      "\n",
      "location          28\n",
      "total_sqft        28\n",
      "price             28\n",
      "price_per_sqft    28\n",
      "dtype: int64\n"
     ]
    }
   ],
   "source": [
    "#Getting the data that are lower and higher than the lower quantile range and upper quantile range\n",
    "outliners = df[(df.price_per_sqft < 1366.184) | (df.price_per_sqft > 50959.36200000098)]\n",
    "print(outliners,\"\\n\")\n",
    "print(outliners.count())"
   ]
  },
  {
   "cell_type": "code",
   "execution_count": 16,
   "id": "8ae2bc8f-b9d0-4dfd-ba32-c720085582ab",
   "metadata": {},
   "outputs": [
    {
     "data": {
      "text/html": [
       "<div>\n",
       "<style scoped>\n",
       "    .dataframe tbody tr th:only-of-type {\n",
       "        vertical-align: middle;\n",
       "    }\n",
       "\n",
       "    .dataframe tbody tr th {\n",
       "        vertical-align: top;\n",
       "    }\n",
       "\n",
       "    .dataframe thead th {\n",
       "        text-align: right;\n",
       "    }\n",
       "</style>\n",
       "<table border=\"1\" class=\"dataframe\">\n",
       "  <thead>\n",
       "    <tr style=\"text-align: right;\">\n",
       "      <th></th>\n",
       "      <th>location</th>\n",
       "      <th>total_sqft</th>\n",
       "      <th>price</th>\n",
       "      <th>price_per_sqft</th>\n",
       "    </tr>\n",
       "  </thead>\n",
       "  <tbody>\n",
       "    <tr>\n",
       "      <th>0</th>\n",
       "      <td>Electronic City Phase II</td>\n",
       "      <td>1056.0</td>\n",
       "      <td>39.07</td>\n",
       "      <td>3699</td>\n",
       "    </tr>\n",
       "    <tr>\n",
       "      <th>1</th>\n",
       "      <td>Chikka Tirupathi</td>\n",
       "      <td>2600.0</td>\n",
       "      <td>120.00</td>\n",
       "      <td>4615</td>\n",
       "    </tr>\n",
       "    <tr>\n",
       "      <th>2</th>\n",
       "      <td>Uttarahalli</td>\n",
       "      <td>1440.0</td>\n",
       "      <td>62.00</td>\n",
       "      <td>4305</td>\n",
       "    </tr>\n",
       "    <tr>\n",
       "      <th>3</th>\n",
       "      <td>Lingadheeranahalli</td>\n",
       "      <td>1521.0</td>\n",
       "      <td>95.00</td>\n",
       "      <td>6245</td>\n",
       "    </tr>\n",
       "    <tr>\n",
       "      <th>4</th>\n",
       "      <td>Kothanur</td>\n",
       "      <td>1200.0</td>\n",
       "      <td>51.00</td>\n",
       "      <td>4250</td>\n",
       "    </tr>\n",
       "    <tr>\n",
       "      <th>5</th>\n",
       "      <td>Whitefield</td>\n",
       "      <td>1170.0</td>\n",
       "      <td>38.00</td>\n",
       "      <td>3247</td>\n",
       "    </tr>\n",
       "  </tbody>\n",
       "</table>\n",
       "</div>"
      ],
      "text/plain": [
       "                   location  total_sqft   price  price_per_sqft\n",
       "0  Electronic City Phase II      1056.0   39.07            3699\n",
       "1          Chikka Tirupathi      2600.0  120.00            4615\n",
       "2               Uttarahalli      1440.0   62.00            4305\n",
       "3        Lingadheeranahalli      1521.0   95.00            6245\n",
       "4                  Kothanur      1200.0   51.00            4250\n",
       "5                Whitefield      1170.0   38.00            3247"
      ]
     },
     "execution_count": 16,
     "metadata": {},
     "output_type": "execute_result"
    }
   ],
   "source": [
    "#Removing the outliners\n",
    "df = df[(df.price_per_sqft > lower_quantile_range) & (df.price_per_sqft < upper_quantile_range) ]\n",
    "df.head(6)"
   ]
  },
  {
   "cell_type": "code",
   "execution_count": 20,
   "id": "e7e98c35-2e01-404d-a56d-64b7329ccb76",
   "metadata": {},
   "outputs": [
    {
     "name": "stdout",
     "output_type": "stream",
     "text": [
      "<class 'pandas.core.frame.DataFrame'>\n",
      "Index: 13172 entries, 0 to 13199\n",
      "Data columns (total 4 columns):\n",
      " #   Column          Non-Null Count  Dtype  \n",
      "---  ------          --------------  -----  \n",
      " 0   location        13172 non-null  object \n",
      " 1   total_sqft      13172 non-null  float64\n",
      " 2   price           13172 non-null  float64\n",
      " 3   price_per_sqft  13172 non-null  int64  \n",
      "dtypes: float64(2), int64(1), object(1)\n",
      "memory usage: 514.5+ KB\n"
     ]
    }
   ],
   "source": [
    "df.info()"
   ]
  },
  {
   "cell_type": "markdown",
   "id": "91162403-2803-4d61-bedf-d5c48de4ca1d",
   "metadata": {},
   "source": [
    "### Removing the outliner using the standard deviation"
   ]
  },
  {
   "cell_type": "code",
   "execution_count": 17,
   "id": "81aa4f06-89fa-41fe-9c36-a8f35d9f4b38",
   "metadata": {},
   "outputs": [
    {
     "data": {
      "text/plain": [
       "-9900.429065502582"
      ]
     },
     "execution_count": 17,
     "metadata": {},
     "output_type": "execute_result"
    }
   ],
   "source": [
    "#Lowe Bound\n",
    "lower_bound = (df.price_per_sqft.mean() - 4 * df.price_per_sqft.std())\n",
    "lower_bound"
   ]
  },
  {
   "cell_type": "code",
   "execution_count": 18,
   "id": "609acde1-ccce-4b87-a0ea-2535f2802fcd",
   "metadata": {},
   "outputs": [
    {
     "data": {
      "text/plain": [
       "23227.73653589432"
      ]
     },
     "execution_count": 18,
     "metadata": {},
     "output_type": "execute_result"
    }
   ],
   "source": [
    "upper_bound = (df.price_per_sqft.mean() + 4 * df.price_per_sqft.std())\n",
    "upper_bound"
   ]
  },
  {
   "cell_type": "code",
   "execution_count": 22,
   "id": "cb06aeff-dc2c-4175-86c8-b0ab0eb0c3d1",
   "metadata": {},
   "outputs": [
    {
     "data": {
      "text/html": [
       "<div>\n",
       "<style scoped>\n",
       "    .dataframe tbody tr th:only-of-type {\n",
       "        vertical-align: middle;\n",
       "    }\n",
       "\n",
       "    .dataframe tbody tr th {\n",
       "        vertical-align: top;\n",
       "    }\n",
       "\n",
       "    .dataframe thead th {\n",
       "        text-align: right;\n",
       "    }\n",
       "</style>\n",
       "<table border=\"1\" class=\"dataframe\">\n",
       "  <thead>\n",
       "    <tr style=\"text-align: right;\">\n",
       "      <th></th>\n",
       "      <th>location</th>\n",
       "      <th>total_sqft</th>\n",
       "      <th>price</th>\n",
       "      <th>price_per_sqft</th>\n",
       "    </tr>\n",
       "  </thead>\n",
       "  <tbody>\n",
       "    <tr>\n",
       "      <th>0</th>\n",
       "      <td>Electronic City Phase II</td>\n",
       "      <td>1056.0</td>\n",
       "      <td>39.07</td>\n",
       "      <td>3699</td>\n",
       "    </tr>\n",
       "    <tr>\n",
       "      <th>1</th>\n",
       "      <td>Chikka Tirupathi</td>\n",
       "      <td>2600.0</td>\n",
       "      <td>120.00</td>\n",
       "      <td>4615</td>\n",
       "    </tr>\n",
       "    <tr>\n",
       "      <th>2</th>\n",
       "      <td>Uttarahalli</td>\n",
       "      <td>1440.0</td>\n",
       "      <td>62.00</td>\n",
       "      <td>4305</td>\n",
       "    </tr>\n",
       "    <tr>\n",
       "      <th>3</th>\n",
       "      <td>Lingadheeranahalli</td>\n",
       "      <td>1521.0</td>\n",
       "      <td>95.00</td>\n",
       "      <td>6245</td>\n",
       "    </tr>\n",
       "    <tr>\n",
       "      <th>4</th>\n",
       "      <td>Kothanur</td>\n",
       "      <td>1200.0</td>\n",
       "      <td>51.00</td>\n",
       "      <td>4250</td>\n",
       "    </tr>\n",
       "    <tr>\n",
       "      <th>...</th>\n",
       "      <td>...</td>\n",
       "      <td>...</td>\n",
       "      <td>...</td>\n",
       "      <td>...</td>\n",
       "    </tr>\n",
       "    <tr>\n",
       "      <th>13195</th>\n",
       "      <td>Whitefield</td>\n",
       "      <td>3453.0</td>\n",
       "      <td>231.00</td>\n",
       "      <td>6689</td>\n",
       "    </tr>\n",
       "    <tr>\n",
       "      <th>13196</th>\n",
       "      <td>other</td>\n",
       "      <td>3600.0</td>\n",
       "      <td>400.00</td>\n",
       "      <td>11111</td>\n",
       "    </tr>\n",
       "    <tr>\n",
       "      <th>13197</th>\n",
       "      <td>Raja Rajeshwari Nagar</td>\n",
       "      <td>1141.0</td>\n",
       "      <td>60.00</td>\n",
       "      <td>5258</td>\n",
       "    </tr>\n",
       "    <tr>\n",
       "      <th>13198</th>\n",
       "      <td>Padmanabhanagar</td>\n",
       "      <td>4689.0</td>\n",
       "      <td>488.00</td>\n",
       "      <td>10407</td>\n",
       "    </tr>\n",
       "    <tr>\n",
       "      <th>13199</th>\n",
       "      <td>Doddathoguru</td>\n",
       "      <td>550.0</td>\n",
       "      <td>17.00</td>\n",
       "      <td>3090</td>\n",
       "    </tr>\n",
       "  </tbody>\n",
       "</table>\n",
       "<p>13047 rows × 4 columns</p>\n",
       "</div>"
      ],
      "text/plain": [
       "                       location  total_sqft   price  price_per_sqft\n",
       "0      Electronic City Phase II      1056.0   39.07            3699\n",
       "1              Chikka Tirupathi      2600.0  120.00            4615\n",
       "2                   Uttarahalli      1440.0   62.00            4305\n",
       "3            Lingadheeranahalli      1521.0   95.00            6245\n",
       "4                      Kothanur      1200.0   51.00            4250\n",
       "...                         ...         ...     ...             ...\n",
       "13195                Whitefield      3453.0  231.00            6689\n",
       "13196                     other      3600.0  400.00           11111\n",
       "13197     Raja Rajeshwari Nagar      1141.0   60.00            5258\n",
       "13198           Padmanabhanagar      4689.0  488.00           10407\n",
       "13199              Doddathoguru       550.0   17.00            3090\n",
       "\n",
       "[13047 rows x 4 columns]"
      ]
     },
     "execution_count": 22,
     "metadata": {},
     "output_type": "execute_result"
    }
   ],
   "source": [
    "df = df[(df.price_per_sqft >= lower_bound) & (df.price_per_sqft <= upper_bound)]\n",
    "df"
   ]
  },
  {
   "cell_type": "code",
   "execution_count": 23,
   "id": "0c8dc61a-8b82-4cb9-aea4-3bbd85972fa2",
   "metadata": {},
   "outputs": [
    {
     "data": {
      "text/plain": [
       "125"
      ]
     },
     "execution_count": 23,
     "metadata": {},
     "output_type": "execute_result"
    }
   ],
   "source": [
    "# Calculating the difference\n",
    "difference = 13172 - 13047\n",
    "difference"
   ]
  },
  {
   "cell_type": "markdown",
   "id": "10fc43ab-c47c-4aa0-9189-9f1f433322d2",
   "metadata": {},
   "source": [
    "### Results so far\n",
    "- We have removed 125 more outliners"
   ]
  },
  {
   "cell_type": "markdown",
   "id": "cadec844-1d39-4c1c-b8fe-28629bc2e2ff",
   "metadata": {},
   "source": [
    "### Why the Results Vary:\n",
    "\n",
    "#### Distribution Assumption:\n",
    "\n",
    "**SD Method:** Assumes a normal distribution. If the data is skewed or has a non-normal distribution, the SD method may identify outliers differently compared to the quantile method.\n",
    "\n",
    "**Quantile Method:** Does not assume any specific distribution. It is purely based on the percentile cutoffs.\n",
    "\n",
    "#### Sensitivity to Extreme Values:\n",
    "\n",
    "**SD Method:** Highly sensitive to extreme values. A few extreme outliers can significantly shift the mean and standard deviation.\n",
    "\n",
    "**Quantile Method:** Less sensitive to extreme values. It focuses on the central percentage of the data, ignoring the extremities."
   ]
  },
  {
   "cell_type": "code",
   "execution_count": 24,
   "id": "dd9a01b3-a3e6-4dd8-ad5c-2fceb7b3e18d",
   "metadata": {},
   "outputs": [
    {
     "data": {
      "text/plain": [
       "<Axes: xlabel='price_per_sqft', ylabel='Count'>"
      ]
     },
     "execution_count": 24,
     "metadata": {},
     "output_type": "execute_result"
    },
    {
     "data": {
      "image/png": "[encoded data removed]",
      "text/plain": [
       "<Figure size 640x480 with 1 Axes>"
      ]
     },
     "metadata": {},
     "output_type": "display_data"
    }
   ],
   "source": [
    "import seaborn as sn\n",
    "\n",
    "sn.histplot(df.price_per_sqft,kde=True)"
   ]
  },
  {
   "cell_type": "markdown",
   "id": "5a560cb5-8818-4d8b-b147-4c75d4ce9976",
   "metadata": {},
   "source": [
    "#### Removing Outliners Using Z-Score"
   ]
  },
  {
   "cell_type": "code",
   "execution_count": 27,
   "id": "dcb5b041-d875-41a5-9658-9aefc17c6324",
   "metadata": {},
   "outputs": [
    {
     "data": {
      "text/html": [
       "<div>\n",
       "<style scoped>\n",
       "    .dataframe tbody tr th:only-of-type {\n",
       "        vertical-align: middle;\n",
       "    }\n",
       "\n",
       "    .dataframe tbody tr th {\n",
       "        vertical-align: top;\n",
       "    }\n",
       "\n",
       "    .dataframe thead th {\n",
       "        text-align: right;\n",
       "    }\n",
       "</style>\n",
       "<table border=\"1\" class=\"dataframe\">\n",
       "  <thead>\n",
       "    <tr style=\"text-align: right;\">\n",
       "      <th></th>\n",
       "      <th>location</th>\n",
       "      <th>total_sqft</th>\n",
       "      <th>price</th>\n",
       "      <th>price_per_sqft</th>\n",
       "      <th>zscore</th>\n",
       "    </tr>\n",
       "  </thead>\n",
       "  <tbody>\n",
       "    <tr>\n",
       "      <th>0</th>\n",
       "      <td>Electronic City Phase II</td>\n",
       "      <td>1056.0</td>\n",
       "      <td>39.07</td>\n",
       "      <td>3699</td>\n",
       "      <td>-0.788586</td>\n",
       "    </tr>\n",
       "    <tr>\n",
       "      <th>1</th>\n",
       "      <td>Chikka Tirupathi</td>\n",
       "      <td>2600.0</td>\n",
       "      <td>120.00</td>\n",
       "      <td>4615</td>\n",
       "      <td>-0.525947</td>\n",
       "    </tr>\n",
       "    <tr>\n",
       "      <th>2</th>\n",
       "      <td>Uttarahalli</td>\n",
       "      <td>1440.0</td>\n",
       "      <td>62.00</td>\n",
       "      <td>4305</td>\n",
       "      <td>-0.614831</td>\n",
       "    </tr>\n",
       "    <tr>\n",
       "      <th>3</th>\n",
       "      <td>Lingadheeranahalli</td>\n",
       "      <td>1521.0</td>\n",
       "      <td>95.00</td>\n",
       "      <td>6245</td>\n",
       "      <td>-0.058586</td>\n",
       "    </tr>\n",
       "    <tr>\n",
       "      <th>4</th>\n",
       "      <td>Kothanur</td>\n",
       "      <td>1200.0</td>\n",
       "      <td>51.00</td>\n",
       "      <td>4250</td>\n",
       "      <td>-0.630601</td>\n",
       "    </tr>\n",
       "    <tr>\n",
       "      <th>...</th>\n",
       "      <td>...</td>\n",
       "      <td>...</td>\n",
       "      <td>...</td>\n",
       "      <td>...</td>\n",
       "      <td>...</td>\n",
       "    </tr>\n",
       "    <tr>\n",
       "      <th>13195</th>\n",
       "      <td>Whitefield</td>\n",
       "      <td>3453.0</td>\n",
       "      <td>231.00</td>\n",
       "      <td>6689</td>\n",
       "      <td>0.068720</td>\n",
       "    </tr>\n",
       "    <tr>\n",
       "      <th>13196</th>\n",
       "      <td>other</td>\n",
       "      <td>3600.0</td>\n",
       "      <td>400.00</td>\n",
       "      <td>11111</td>\n",
       "      <td>1.336615</td>\n",
       "    </tr>\n",
       "    <tr>\n",
       "      <th>13197</th>\n",
       "      <td>Raja Rajeshwari Nagar</td>\n",
       "      <td>1141.0</td>\n",
       "      <td>60.00</td>\n",
       "      <td>5258</td>\n",
       "      <td>-0.341583</td>\n",
       "    </tr>\n",
       "    <tr>\n",
       "      <th>13198</th>\n",
       "      <td>Padmanabhanagar</td>\n",
       "      <td>4689.0</td>\n",
       "      <td>488.00</td>\n",
       "      <td>10407</td>\n",
       "      <td>1.134761</td>\n",
       "    </tr>\n",
       "    <tr>\n",
       "      <th>13199</th>\n",
       "      <td>Doddathoguru</td>\n",
       "      <td>550.0</td>\n",
       "      <td>17.00</td>\n",
       "      <td>3090</td>\n",
       "      <td>-0.963201</td>\n",
       "    </tr>\n",
       "  </tbody>\n",
       "</table>\n",
       "<p>13047 rows × 5 columns</p>\n",
       "</div>"
      ],
      "text/plain": [
       "                       location  total_sqft   price  price_per_sqft    zscore\n",
       "0      Electronic City Phase II      1056.0   39.07            3699 -0.788586\n",
       "1              Chikka Tirupathi      2600.0  120.00            4615 -0.525947\n",
       "2                   Uttarahalli      1440.0   62.00            4305 -0.614831\n",
       "3            Lingadheeranahalli      1521.0   95.00            6245 -0.058586\n",
       "4                      Kothanur      1200.0   51.00            4250 -0.630601\n",
       "...                         ...         ...     ...             ...       ...\n",
       "13195                Whitefield      3453.0  231.00            6689  0.068720\n",
       "13196                     other      3600.0  400.00           11111  1.336615\n",
       "13197     Raja Rajeshwari Nagar      1141.0   60.00            5258 -0.341583\n",
       "13198           Padmanabhanagar      4689.0  488.00           10407  1.134761\n",
       "13199              Doddathoguru       550.0   17.00            3090 -0.963201\n",
       "\n",
       "[13047 rows x 5 columns]"
      ]
     },
     "execution_count": 27,
     "metadata": {},
     "output_type": "execute_result"
    }
   ],
   "source": [
    "df['zscore'] = (df.price_per_sqft - df.price_per_sqft.mean())/df.price_per_sqft.std()\n",
    "df"
   ]
  },
  {
   "cell_type": "markdown",
   "id": "54550f06-2c83-46f4-a015-fc8ae55d0030",
   "metadata": {},
   "source": [
    "##### As per the problem statement, we need to remove the outliners of *Z-Score* of 4"
   ]
  },
  {
   "cell_type": "code",
   "execution_count": 29,
   "id": "e5c71732-625d-4686-be93-0b7084c1f492",
   "metadata": {},
   "outputs": [
    {
     "data": {
      "text/html": [
       "<div>\n",
       "<style scoped>\n",
       "    .dataframe tbody tr th:only-of-type {\n",
       "        vertical-align: middle;\n",
       "    }\n",
       "\n",
       "    .dataframe tbody tr th {\n",
       "        vertical-align: top;\n",
       "    }\n",
       "\n",
       "    .dataframe thead th {\n",
       "        text-align: right;\n",
       "    }\n",
       "</style>\n",
       "<table border=\"1\" class=\"dataframe\">\n",
       "  <thead>\n",
       "    <tr style=\"text-align: right;\">\n",
       "      <th></th>\n",
       "      <th>location</th>\n",
       "      <th>total_sqft</th>\n",
       "      <th>price</th>\n",
       "      <th>price_per_sqft</th>\n",
       "      <th>zscore</th>\n",
       "    </tr>\n",
       "  </thead>\n",
       "  <tbody>\n",
       "    <tr>\n",
       "      <th>0</th>\n",
       "      <td>Electronic City Phase II</td>\n",
       "      <td>1056.0</td>\n",
       "      <td>39.07</td>\n",
       "      <td>3699</td>\n",
       "      <td>-0.788586</td>\n",
       "    </tr>\n",
       "    <tr>\n",
       "      <th>1</th>\n",
       "      <td>Chikka Tirupathi</td>\n",
       "      <td>2600.0</td>\n",
       "      <td>120.00</td>\n",
       "      <td>4615</td>\n",
       "      <td>-0.525947</td>\n",
       "    </tr>\n",
       "    <tr>\n",
       "      <th>2</th>\n",
       "      <td>Uttarahalli</td>\n",
       "      <td>1440.0</td>\n",
       "      <td>62.00</td>\n",
       "      <td>4305</td>\n",
       "      <td>-0.614831</td>\n",
       "    </tr>\n",
       "    <tr>\n",
       "      <th>3</th>\n",
       "      <td>Lingadheeranahalli</td>\n",
       "      <td>1521.0</td>\n",
       "      <td>95.00</td>\n",
       "      <td>6245</td>\n",
       "      <td>-0.058586</td>\n",
       "    </tr>\n",
       "    <tr>\n",
       "      <th>4</th>\n",
       "      <td>Kothanur</td>\n",
       "      <td>1200.0</td>\n",
       "      <td>51.00</td>\n",
       "      <td>4250</td>\n",
       "      <td>-0.630601</td>\n",
       "    </tr>\n",
       "    <tr>\n",
       "      <th>...</th>\n",
       "      <td>...</td>\n",
       "      <td>...</td>\n",
       "      <td>...</td>\n",
       "      <td>...</td>\n",
       "      <td>...</td>\n",
       "    </tr>\n",
       "    <tr>\n",
       "      <th>13195</th>\n",
       "      <td>Whitefield</td>\n",
       "      <td>3453.0</td>\n",
       "      <td>231.00</td>\n",
       "      <td>6689</td>\n",
       "      <td>0.068720</td>\n",
       "    </tr>\n",
       "    <tr>\n",
       "      <th>13196</th>\n",
       "      <td>other</td>\n",
       "      <td>3600.0</td>\n",
       "      <td>400.00</td>\n",
       "      <td>11111</td>\n",
       "      <td>1.336615</td>\n",
       "    </tr>\n",
       "    <tr>\n",
       "      <th>13197</th>\n",
       "      <td>Raja Rajeshwari Nagar</td>\n",
       "      <td>1141.0</td>\n",
       "      <td>60.00</td>\n",
       "      <td>5258</td>\n",
       "      <td>-0.341583</td>\n",
       "    </tr>\n",
       "    <tr>\n",
       "      <th>13198</th>\n",
       "      <td>Padmanabhanagar</td>\n",
       "      <td>4689.0</td>\n",
       "      <td>488.00</td>\n",
       "      <td>10407</td>\n",
       "      <td>1.134761</td>\n",
       "    </tr>\n",
       "    <tr>\n",
       "      <th>13199</th>\n",
       "      <td>Doddathoguru</td>\n",
       "      <td>550.0</td>\n",
       "      <td>17.00</td>\n",
       "      <td>3090</td>\n",
       "      <td>-0.963201</td>\n",
       "    </tr>\n",
       "  </tbody>\n",
       "</table>\n",
       "<p>12961 rows × 5 columns</p>\n",
       "</div>"
      ],
      "text/plain": [
       "                       location  total_sqft   price  price_per_sqft    zscore\n",
       "0      Electronic City Phase II      1056.0   39.07            3699 -0.788586\n",
       "1              Chikka Tirupathi      2600.0  120.00            4615 -0.525947\n",
       "2                   Uttarahalli      1440.0   62.00            4305 -0.614831\n",
       "3            Lingadheeranahalli      1521.0   95.00            6245 -0.058586\n",
       "4                      Kothanur      1200.0   51.00            4250 -0.630601\n",
       "...                         ...         ...     ...             ...       ...\n",
       "13195                Whitefield      3453.0  231.00            6689  0.068720\n",
       "13196                     other      3600.0  400.00           11111  1.336615\n",
       "13197     Raja Rajeshwari Nagar      1141.0   60.00            5258 -0.341583\n",
       "13198           Padmanabhanagar      4689.0  488.00           10407  1.134761\n",
       "13199              Doddathoguru       550.0   17.00            3090 -0.963201\n",
       "\n",
       "[12961 rows x 5 columns]"
      ]
     },
     "execution_count": 29,
     "metadata": {},
     "output_type": "execute_result"
    }
   ],
   "source": [
    "df_filtered = df[df['zscore'].abs() < 4]\n",
    "df_filtered"
   ]
  },
  {
   "cell_type": "markdown",
   "id": "c7f6df04-5238-4d69-b25f-f6e0de3c3910",
   "metadata": {},
   "source": [
    "- Now, we have **filtered out** the outliners futher"
   ]
  },
  {
   "cell_type": "code",
   "execution_count": 30,
   "id": "c4a6fdad-5227-425b-ab7a-73b1d64fe17f",
   "metadata": {},
   "outputs": [
    {
     "data": {
      "text/plain": [
       "<Axes: xlabel='price_per_sqft', ylabel='Count'>"
      ]
     },
     "execution_count": 30,
     "metadata": {},
     "output_type": "execute_result"
    },
    {
     "data": {
      "image/png": "[encoded data removed]",
      "text/plain": [
       "<Figure size 640x480 with 1 Axes>"
      ]
     },
     "metadata": {},
     "output_type": "display_data"
    }
   ],
   "source": [
    "sn.histplot(df_filtered.price_per_sqft,kde=True)"
   ]
  },
  {
   "cell_type": "markdown",
   "id": "96271666-50fe-442c-a535-5e298845b15f",
   "metadata": {},
   "source": [
    "### Results\n",
    "- We can say **5500** is the mean and most of the layouts falls under 5500 per sqrt"
   ]
  }
 ],
 "metadata": {
  "kernelspec": {
   "display_name": "Python 3 (ipykernel)",
   "language": "python",
   "name": "python3"
  },
  "language_info": {
   "codemirror_mode": {
    "name": "ipython",
    "version": 3
   },
   "file_extension": ".py",
   "mimetype": "text/x-python",
   "name": "python",
   "nbconvert_exporter": "python",
   "pygments_lexer": "ipython3",
   "version": "3.12.2"
  }
 },
 "nbformat": 4,
 "nbformat_minor": 5
}
