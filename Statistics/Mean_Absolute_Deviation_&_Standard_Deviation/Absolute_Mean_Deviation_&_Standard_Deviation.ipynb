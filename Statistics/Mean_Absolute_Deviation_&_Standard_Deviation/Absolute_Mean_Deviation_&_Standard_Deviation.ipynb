{
 "cells": [
  {
   "cell_type": "markdown",
   "id": "df3e4e33-150a-492b-bd37-9e7bf8257f9e",
   "metadata": {},
   "source": [
    "### Preparing the Data"
   ]
  },
  {
   "cell_type": "code",
   "execution_count": 4,
   "id": "a751610b-f976-4a41-871f-0d57519714fb",
   "metadata": {},
   "outputs": [],
   "source": [
    "import numpy as np\n",
    "import pandas as pd"
   ]
  },
  {
   "cell_type": "code",
   "execution_count": 14,
   "id": "1f9fffba-ef90-4173-ae3e-db3060aef4b2",
   "metadata": {},
   "outputs": [],
   "source": [
    "col_array_1 = np.array([75,72,68,65,67,73])"
   ]
  },
  {
   "cell_type": "code",
   "execution_count": 15,
   "id": "f7d728c4-9d77-436f-907e-3fe33ccde652",
   "metadata": {},
   "outputs": [],
   "source": [
    "col_array_2 = np.array([93,96,43,47,51,90])"
   ]
  },
  {
   "cell_type": "code",
   "execution_count": 16,
   "id": "f926c8d8-8883-4106-9688-3f96e6c414d7",
   "metadata": {},
   "outputs": [],
   "source": [
    "data = np.column_stack([col_array_1,col_array_2])"
   ]
  },
  {
   "cell_type": "code",
   "execution_count": 18,
   "id": "ce2017e1-0a9d-4271-a3e1-607897bf27bd",
   "metadata": {},
   "outputs": [
    {
     "data": {
      "text/plain": [
       "array([[75, 93],\n",
       "       [72, 96],\n",
       "       [68, 43],\n",
       "       [65, 47],\n",
       "       [67, 51],\n",
       "       [73, 90]])"
      ]
     },
     "execution_count": 18,
     "metadata": {},
     "output_type": "execute_result"
    }
   ],
   "source": [
    "data"
   ]
  },
  {
   "cell_type": "code",
   "execution_count": 21,
   "id": "5ab72d8d-5791-4909-aa4f-012cc82d4b1e",
   "metadata": {},
   "outputs": [],
   "source": [
    "L1 = pd.DataFrame(data,columns=['Math_Test_Score','History_Test_Score'])"
   ]
  },
  {
   "cell_type": "markdown",
   "id": "b0c81fc7-ff97-420c-bdba-190bad7563f6",
   "metadata": {},
   "source": [
    "- Column is stacked one after another"
   ]
  },
  {
   "cell_type": "code",
   "execution_count": 22,
   "id": "01d84ab9-2e2b-47b6-ab38-eba6f1244125",
   "metadata": {
    "scrolled": true
   },
   "outputs": [
    {
     "data": {
      "text/html": [
       "<div>\n",
       "<style scoped>\n",
       "    .dataframe tbody tr th:only-of-type {\n",
       "        vertical-align: middle;\n",
       "    }\n",
       "\n",
       "    .dataframe tbody tr th {\n",
       "        vertical-align: top;\n",
       "    }\n",
       "\n",
       "    .dataframe thead th {\n",
       "        text-align: right;\n",
       "    }\n",
       "</style>\n",
       "<table border=\"1\" class=\"dataframe\">\n",
       "  <thead>\n",
       "    <tr style=\"text-align: right;\">\n",
       "      <th></th>\n",
       "      <th>Math_Test_Score</th>\n",
       "      <th>History_Test_Score</th>\n",
       "    </tr>\n",
       "  </thead>\n",
       "  <tbody>\n",
       "    <tr>\n",
       "      <th>0</th>\n",
       "      <td>75</td>\n",
       "      <td>93</td>\n",
       "    </tr>\n",
       "    <tr>\n",
       "      <th>1</th>\n",
       "      <td>72</td>\n",
       "      <td>96</td>\n",
       "    </tr>\n",
       "    <tr>\n",
       "      <th>2</th>\n",
       "      <td>68</td>\n",
       "      <td>43</td>\n",
       "    </tr>\n",
       "    <tr>\n",
       "      <th>3</th>\n",
       "      <td>65</td>\n",
       "      <td>47</td>\n",
       "    </tr>\n",
       "    <tr>\n",
       "      <th>4</th>\n",
       "      <td>67</td>\n",
       "      <td>51</td>\n",
       "    </tr>\n",
       "    <tr>\n",
       "      <th>5</th>\n",
       "      <td>73</td>\n",
       "      <td>90</td>\n",
       "    </tr>\n",
       "  </tbody>\n",
       "</table>\n",
       "</div>"
      ],
      "text/plain": [
       "   Math_Test_Score  History_Test_Score\n",
       "0               75                  93\n",
       "1               72                  96\n",
       "2               68                  43\n",
       "3               65                  47\n",
       "4               67                  51\n",
       "5               73                  90"
      ]
     },
     "execution_count": 22,
     "metadata": {},
     "output_type": "execute_result"
    }
   ],
   "source": [
    "L1"
   ]
  },
  {
   "cell_type": "markdown",
   "id": "92af083f-b918-4d77-81a6-940bcc833b87",
   "metadata": {},
   "source": [
    "#### Building the average function\n",
    "- This function would be our helper function to calculate the average scores of different tests"
   ]
  },
  {
   "cell_type": "code",
   "execution_count": 81,
   "id": "73a7ea73-d55f-4b2e-8b21-cc5241a2e4d6",
   "metadata": {},
   "outputs": [],
   "source": [
    "def average_score(scores):\n",
    "    #Results Container\n",
    "    results = 0\n",
    "    count = 0 \n",
    "\n",
    "    for value in scores:\n",
    "        results += value    \n",
    "        count+=1\n",
    "    \n",
    "    avg_math_results = (results)/count\n",
    "    return avg_math_results"
   ]
  },
  {
   "cell_type": "markdown",
   "id": "f1cc0261-0378-4b5e-97ed-deaba0e7c1a4",
   "metadata": {},
   "source": [
    "### Absolute Mean Deviation"
   ]
  },
  {
   "cell_type": "markdown",
   "id": "4ee92289-9753-49a5-81ad-5fdd6e876efe",
   "metadata": {},
   "source": [
    "#### Calculating Average Score for Math_Test_Score"
   ]
  },
  {
   "cell_type": "code",
   "execution_count": 83,
   "id": "31a27553-c096-4d0d-9a7e-7ae10ba0a20f",
   "metadata": {},
   "outputs": [
    {
     "name": "stdout",
     "output_type": "stream",
     "text": [
      "Math Test Average 70.0\n"
     ]
    }
   ],
   "source": [
    "math_avg_score = average_score(L1.Math_Test_Score)\n",
    "print(\"Math Test Average\",math_avg_score)"
   ]
  },
  {
   "cell_type": "markdown",
   "id": "d6568d60-3b88-4d84-8654-108e9244e527",
   "metadata": {},
   "source": [
    "#### Calculating Average Score for History_Test_Score"
   ]
  },
  {
   "cell_type": "code",
   "execution_count": 85,
   "id": "e1c7a2e2-dd40-4f0c-972a-0264a124fe43",
   "metadata": {},
   "outputs": [
    {
     "name": "stdout",
     "output_type": "stream",
     "text": [
      "History Test Score 70.0\n"
     ]
    }
   ],
   "source": [
    "history_avg_score = average_score(L1.History_Test_Score)\n",
    "print(\"History Test Score\",history_avg_score)"
   ]
  },
  {
   "cell_type": "markdown",
   "id": "62f96de4-861a-4204-bf86-aa6404bcca7b",
   "metadata": {},
   "source": [
    "#### Observations\n",
    "-  Did you notice that we get the same average value ?\n",
    "- Let's try to find out which column has points near the median"
   ]
  },
  {
   "cell_type": "markdown",
   "id": "c3e38b83-a5f2-40ca-a74e-6e64aa9a565b",
   "metadata": {},
   "source": [
    "#### Calculating Summation of Absolute Value"
   ]
  },
  {
   "cell_type": "code",
   "execution_count": 94,
   "id": "685541f0-bff6-4a60-a543-2e0e0a6cd801",
   "metadata": {},
   "outputs": [],
   "source": [
    "#Calculating the absolute sum\n",
    "def abs_sum(lst,avg_res):\n",
    "    #storing the results\n",
    "    abs_sum_results = []\n",
    "    \n",
    "    for value in lst:\n",
    "        abs_sum_results.append(int(abs(value - avg_res)))\n",
    "    return abs_sum_results\n"
   ]
  },
  {
   "cell_type": "code",
   "execution_count": 97,
   "id": "cc8fb652-b567-47e1-aa53-dfb7eabb9d61",
   "metadata": {},
   "outputs": [
    {
     "name": "stdout",
     "output_type": "stream",
     "text": [
      "Math Absolute Results:[5, 2, 2, 5, 3, 3]\n",
      "History Absolute Results:[23, 26, 27, 23, 19, 20]\n"
     ]
    }
   ],
   "source": [
    "#Math Results\n",
    "abs_math_results = abs_sum(L1.Math_Test_Score,math_avg_score)\n",
    "\n",
    "#History Results\n",
    "abs_history_results = abs_sum(L1.History_Test_Score,history_avg_score)\n",
    "\n",
    "#Print Results\n",
    "print(f\"Math Absolute Results:{abs_math_results}\\nHistory Absolute Results:{abs_history_results}\")"
   ]
  },
  {
   "cell_type": "code",
   "execution_count": 98,
   "id": "89aa7b66-7753-410b-a746-b7d623406d0e",
   "metadata": {},
   "outputs": [
    {
     "name": "stdout",
     "output_type": "stream",
     "text": [
      "Mean of Math Absolute Results:3.3333333333333335\n",
      "Mean of History Absolute Results:23.0\n"
     ]
    }
   ],
   "source": [
    "#Calculating the mean of math and history results\n",
    "\n",
    "print(f\"Mean of Math Absolute Results:{np.mean(abs_math_results)}\\nMean of History Absolute Results:{np.mean(abs_history_results)}\")"
   ]
  },
  {
   "cell_type": "markdown",
   "id": "86d85552-9a02-43ac-ab97-2cd6b1712aee",
   "metadata": {},
   "source": [
    "- From the above results, we can conclude that the data points of Absolute Math Result are nearer to each other."
   ]
  },
  {
   "cell_type": "markdown",
   "id": "1a79cd51-1f25-4556-8a83-15c042148193",
   "metadata": {},
   "source": [
    "#### Take Away's\n",
    "- Since the *Average Score* was same for both the tests, I decided to calculate the MAD (Mean Absolute Deviation)\n",
    "- From the results for MATH, suggests that the data points for Math are closer than the History Test"
   ]
  },
  {
   "cell_type": "markdown",
   "id": "828cd6c3-499f-44e6-a641-de9bea8a9b5f",
   "metadata": {},
   "source": [
    "### Standard Deviation"
   ]
  },
  {
   "cell_type": "code",
   "execution_count": 113,
   "id": "8e228e3b-a8a9-4a9c-9015-301a4fcfa10f",
   "metadata": {},
   "outputs": [],
   "source": [
    "history_class_A = [75,72,68,65,67,73]\n",
    "history_class_B = [83,70,70,62,70,70]"
   ]
  },
  {
   "cell_type": "code",
   "execution_count": 114,
   "id": "a27a3998-d95c-4f16-a105-efc258cec6d6",
   "metadata": {},
   "outputs": [
    {
     "name": "stdout",
     "output_type": "stream",
     "text": [
      "70.0\n"
     ]
    }
   ],
   "source": [
    "#Class A history avg\n",
    "history_classA_avg = average_score(history_class_A)\n",
    "print(history_classA_avg)"
   ]
  },
  {
   "cell_type": "code",
   "execution_count": 115,
   "id": "84a29360-eda2-4a52-9178-3af3e958a504",
   "metadata": {},
   "outputs": [
    {
     "name": "stdout",
     "output_type": "stream",
     "text": [
      "70.83333333333333\n"
     ]
    }
   ],
   "source": [
    "#Class B history avg\n",
    "history_classB_avg = average_score(history_class_B)\n",
    "print(history_classB_avg)"
   ]
  },
  {
   "cell_type": "code",
   "execution_count": 117,
   "id": "6b592abd-ba98-4596-90e5-ee31a4e75dd1",
   "metadata": {},
   "outputs": [
    {
     "name": "stdout",
     "output_type": "stream",
     "text": [
      "History A Mean:3.3333333333333335\n",
      "History B Mean:3.3333333333333335\n"
     ]
    }
   ],
   "source": [
    "#History Class A - Absolute Results\n",
    "abs_historyA_results = abs_sum(history_class_A,history_classA_avg)\n",
    "\n",
    "#History Class B - Absolute Results\n",
    "abs_historyB_results = abs_sum(history_class_B,history_classB_avg)\n",
    "\n",
    "print(f\"History A Mean:{np.mean(abs_historyA_results)}\\nHistory B Mean:{np.mean(abs_historyB_results)}\")"
   ]
  },
  {
   "cell_type": "markdown",
   "id": "b0fbc638-7030-47de-bf54-887ca1009cae",
   "metadata": {},
   "source": [
    "- We can observe that we are having the same mean value for both History Class A and B\n",
    "- In such cases, I we would calculate *Standard Deviation to assists which col/data lie close to each other*"
   ]
  },
  {
   "cell_type": "code",
   "execution_count": 120,
   "id": "4a64d7e7-4341-4f72-93ac-1fd1f20179ca",
   "metadata": {},
   "outputs": [
    {
     "name": "stdout",
     "output_type": "stream",
     "text": [
      "Standard Deviation of History Class A [25  4  4 25  9  9]\n"
     ]
    }
   ],
   "source": [
    "#Standard Deviation of History Class A\n",
    "std_dev_of_A = np.square(abs_historyA_results)\n",
    "\n",
    "print(\"Standard Deviation of History Class A\",std_dev_of_A)"
   ]
  },
  {
   "cell_type": "code",
   "execution_count": 121,
   "id": "f2703dea-ab00-437e-b2b8-941fdcd1604a",
   "metadata": {},
   "outputs": [
    {
     "name": "stdout",
     "output_type": "stream",
     "text": [
      "Standard Deviation of History Class B [144   0   0  64   0   0]\n"
     ]
    }
   ],
   "source": [
    "#Standard Deviation of History Class B\n",
    "std_dev_of_B = np.square(abs_historyB_results)\n",
    "\n",
    "print(\"Standard Deviation of History Class B\",std_dev_of_B)"
   ]
  },
  {
   "cell_type": "code",
   "execution_count": 123,
   "id": "5e2d0d3b-1564-4483-be04-a515a2f20aa8",
   "metadata": {},
   "outputs": [
    {
     "name": "stdout",
     "output_type": "stream",
     "text": [
      "160.44444444444443\n",
      "1201.7777777777776\n"
     ]
    }
   ],
   "source": [
    "#Average of Standard Deviation of class A\n",
    "avg_A = np.average(std_dev_of_A)\n",
    "\n",
    "#Average of Standard Deviation of class B\n",
    "avg_B = np.average(std_dev_of_B)\n",
    "\n",
    "print(np.square(avg_A))\n",
    "print(np.square(avg_B))"
   ]
  },
  {
   "cell_type": "markdown",
   "id": "5fabe174-721a-4f37-8abf-b5dec64ba8ec",
   "metadata": {},
   "source": [
    "- From the above results, we can suggest that Class B has data points near each other"
   ]
  },
  {
   "cell_type": "code",
   "execution_count": null,
   "id": "9b723e81-85e5-4eba-9cb3-95fe58cddc17",
   "metadata": {},
   "outputs": [],
   "source": []
  }
 ],
 "metadata": {
  "kernelspec": {
   "display_name": "Python 3 (ipykernel)",
   "language": "python",
   "name": "python3"
  },
  "language_info": {
   "codemirror_mode": {
    "name": "ipython",
    "version": 3
   },
   "file_extension": ".py",
   "mimetype": "text/x-python",
   "name": "python",
   "nbconvert_exporter": "python",
   "pygments_lexer": "ipython3",
   "version": "3.12.2"
  }
 },
 "nbformat": 4,
 "nbformat_minor": 5
}
