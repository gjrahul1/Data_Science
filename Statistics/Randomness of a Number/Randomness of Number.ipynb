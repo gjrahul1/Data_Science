{
 "cells": [
  {
   "cell_type": "markdown",
   "id": "211c70bc-1fb6-4882-9929-acbcb13d5da7",
   "metadata": {},
   "source": [
    "### Randomness of Number\n",
    "- We will seed the randomness\n",
    "- If we don't seed, then the default seeding would be system's time (seconds or milli seconds)\n"
   ]
  },
  {
   "cell_type": "markdown",
   "id": "e53eaa4f-3758-4cd5-bd7a-56d8fb361171",
   "metadata": {},
   "source": [
    "#### Random Floating Point Values"
   ]
  },
  {
   "cell_type": "code",
   "execution_count": 1,
   "id": "ea0dc41c-ded0-4aa6-a3f7-d74eab46fd37",
   "metadata": {},
   "outputs": [
    {
     "name": "stdout",
     "output_type": "stream",
     "text": [
      "0.13436424411240122 0.8474337369372327 0.763774618976614\n"
     ]
    }
   ],
   "source": [
    "from random import random,seed\n",
    "\n",
    "#Seeding\n",
    "seed(1)\n",
    "\n",
    "#Generate soeme random numbers\n",
    "print(random(), random(), random())"
   ]
  },
  {
   "cell_type": "code",
   "execution_count": 3,
   "id": "e50446e6-112c-4569-bef6-39f97cb72d55",
   "metadata": {},
   "outputs": [
    {
     "name": "stdout",
     "output_type": "stream",
     "text": [
      "0.13436424411240122 0.8474337369372327 0.763774618976614\n"
     ]
    }
   ],
   "source": [
    "#reseed\n",
    "seed(1)\n",
    "\n",
    "#Print random numbers\n",
    "print(random(), random(), random())"
   ]
  },
  {
   "cell_type": "markdown",
   "id": "18b7f497-0ff7-4123-8a54-b489aef4481e",
   "metadata": {},
   "source": [
    "##### Observation\n",
    "- From the above number, re-seeding we can understand that reseeding doesn't change the output"
   ]
  },
  {
   "cell_type": "markdown",
   "id": "8c982da2-5166-4821-9e5f-7902ad889eb8",
   "metadata": {},
   "source": [
    "#### Random Integer Values"
   ]
  },
  {
   "cell_type": "code",
   "execution_count": 5,
   "id": "b6b78810-b67a-4812-bc8d-aaa660358ec1",
   "metadata": {},
   "outputs": [],
   "source": [
    "from random import randint\n",
    "#Seed\n",
    "seed(1)"
   ]
  },
  {
   "cell_type": "code",
   "execution_count": 15,
   "id": "b77f4879-3791-4eed-b16a-875aeb946801",
   "metadata": {},
   "outputs": [
    {
     "name": "stdout",
     "output_type": "stream",
     "text": [
      " 1\n",
      " 7\n",
      " 10\n",
      " 8\n",
      " 1\n",
      " 2\n",
      " 8\n",
      " 6\n",
      " 5\n",
      " 7\n"
     ]
    }
   ],
   "source": [
    "for _ in range(10):\n",
    "    value = randint(0,10)\n",
    "    print(\"\",value)"
   ]
  },
  {
   "cell_type": "code",
   "execution_count": 16,
   "id": "6a973a4e-5287-4d4e-905b-1f879dbc5350",
   "metadata": {},
   "outputs": [
    {
     "name": "stdout",
     "output_type": "stream",
     "text": [
      " 0\n",
      " 7\n",
      " 0\n",
      " 4\n",
      " 9\n",
      " 9\n",
      " 9\n",
      " 6\n",
      " 10\n",
      " 2\n"
     ]
    }
   ],
   "source": [
    "for _ in range(10):\n",
    "    value = randint(0,10)\n",
    "    print(\"\",value)"
   ]
  },
  {
   "cell_type": "markdown",
   "id": "59cfb9d9-9214-4971-ab5d-35d7f805e3b2",
   "metadata": {},
   "source": [
    "#### Observation\n",
    "- Each time we get different random numbers when we re-run the code"
   ]
  },
  {
   "cell_type": "markdown",
   "id": "06b8f6d9-e5c2-4ebf-b1c8-432cab458c46",
   "metadata": {},
   "source": [
    "#### Random Gauss Values\n",
    "- We use gauss to find the gaussian range values.\n",
    "- We use gauss(m,d) function\n",
    "- <i> m </i> : Mean\n",
    "- <i> d </i> : Standard Deviation"
   ]
  },
  {
   "cell_type": "code",
   "execution_count": 17,
   "id": "022a4844-431e-4199-bbf6-19f2a5dac530",
   "metadata": {},
   "outputs": [],
   "source": [
    "#Importing gauss\n",
    "from random import gauss"
   ]
  },
  {
   "cell_type": "code",
   "execution_count": 18,
   "id": "3bbf8ae6-ec9e-4c9b-8b4e-50059547d65c",
   "metadata": {},
   "outputs": [
    {
     "name": "stdout",
     "output_type": "stream",
     "text": [
      "176.51192591239297\n",
      "179.25662948564653\n",
      "179.65150116376907\n",
      "173.5151416591988\n",
      "184.05186817910638\n"
     ]
    }
   ],
   "source": [
    "for _ in range(5):\n",
    "    value = gauss(173,10)\n",
    "    print(value)"
   ]
  },
  {
   "cell_type": "markdown",
   "id": "3e70ed99-cc5d-4ff6-b87b-c74c56b3fb2f",
   "metadata": {},
   "source": [
    "### Random Choiceness\n",
    "Select random number from using choice()"
   ]
  },
  {
   "cell_type": "code",
   "execution_count": 19,
   "id": "d65d6b37-ec33-4347-b3a6-304cdabafb64",
   "metadata": {},
   "outputs": [],
   "source": [
    "from random import choice"
   ]
  },
  {
   "cell_type": "code",
   "execution_count": 27,
   "id": "993177b5-7ff6-4650-b7ea-9fce45886593",
   "metadata": {},
   "outputs": [
    {
     "name": "stdout",
     "output_type": "stream",
     "text": [
      "[0, 1, 2, 3, 4, 5, 6, 7, 8, 9, 10, 11, 12, 13, 14, 15, 16, 17, 18, 19]\n"
     ]
    }
   ],
   "source": [
    "#Seeding\n",
    "seed(1)\n",
    "\n",
    "#Prepearing a sequence\n",
    "sequence = [i for i in range(20)]\n",
    "print(sequence)"
   ]
  },
  {
   "cell_type": "code",
   "execution_count": 29,
   "id": "ba25eacd-1d39-4add-ad9c-83e3f573c516",
   "metadata": {},
   "outputs": [
    {
     "name": "stdout",
     "output_type": "stream",
     "text": [
      "15\n",
      "14\n",
      "15\n",
      "12\n",
      "6\n"
     ]
    }
   ],
   "source": [
    "#Generate 5 random choice\n",
    "for _ in range(5):\n",
    "    choosen = choice(sequence)\n",
    "    print(choosen)"
   ]
  },
  {
   "cell_type": "code",
   "execution_count": 30,
   "id": "ebf4e980-e792-4f34-ad0b-3e7673a73ae0",
   "metadata": {},
   "outputs": [
    {
     "name": "stdout",
     "output_type": "stream",
     "text": [
      "3\n",
      "15\n",
      "0\n",
      "12\n",
      "13\n"
     ]
    }
   ],
   "source": [
    "#Generate 5 random choice\n",
    "for _ in range(5):\n",
    "    choosen = choice(sequence)\n",
    "    print(choosen)"
   ]
  },
  {
   "cell_type": "markdown",
   "id": "b4c3c7c3-ecf1-4e11-a791-a22713a6e10f",
   "metadata": {},
   "source": [
    "#### Sub Sampling from the list\n",
    "- sample(list,int): We need to pass in the list of sequence and number of elements required in the new list\n",
    "- The original list is copied and elements are not removed\n",
    "- Same elements aren't repeated in any sub-sequent lists / arrays"
   ]
  },
  {
   "cell_type": "code",
   "execution_count": 33,
   "id": "e9906824-e52b-4e34-8397-f8405d291439",
   "metadata": {},
   "outputs": [],
   "source": [
    "from random import sample"
   ]
  },
  {
   "cell_type": "code",
   "execution_count": 32,
   "id": "c3426bf0-089e-4d06-ba88-23297fe3f775",
   "metadata": {},
   "outputs": [
    {
     "name": "stdout",
     "output_type": "stream",
     "text": [
      "[0, 1, 2, 3, 4, 5, 6, 7, 8, 9, 10, 11, 12, 13, 14, 15, 16, 17, 18, 19]\n"
     ]
    }
   ],
   "source": [
    "#Seeding\n",
    "seed(1)\n",
    "\n",
    "#prepare the sequence\n",
    "sequence = [i for i in range(20)]\n",
    "print(sequence)"
   ]
  },
  {
   "cell_type": "code",
   "execution_count": 36,
   "id": "3ed1c1a8-fec5-4bb5-809b-b3a12f6956a9",
   "metadata": {},
   "outputs": [
    {
     "name": "stdout",
     "output_type": "stream",
     "text": [
      "[0, 13, 1, 11, 18, 6, 4, 10, 12, 19] [2, 19, 0, 12, 8, 7, 4, 16, 5, 10]\n"
     ]
    }
   ],
   "source": [
    "for _ in range(20):\n",
    "    sequence1 = sample(sequence,10)\n",
    "    sequence2 = sample(sequence,10)\n",
    "\n",
    "print(sequence1,sequence2)"
   ]
  },
  {
   "cell_type": "markdown",
   "id": "5ecf3788-3672-4402-bf25-b076f3e1a0b2",
   "metadata": {},
   "source": [
    "#### Shuffle the list"
   ]
  },
  {
   "cell_type": "code",
   "execution_count": 38,
   "id": "47538145-1eb0-4922-af98-31be3d4b7003",
   "metadata": {},
   "outputs": [
    {
     "name": "stdout",
     "output_type": "stream",
     "text": [
      "[0, 1, 2, 3, 4, 5, 6, 7, 8, 9, 10, 11, 12, 13, 14, 15, 16, 17, 18, 19]\n"
     ]
    }
   ],
   "source": [
    "#Seed\n",
    "seed(1)\n",
    "\n",
    "#Prepare a random sequence\n",
    "sequence = [i for i in range(20)]\n",
    "\n",
    "print(sequence)"
   ]
  },
  {
   "cell_type": "code",
   "execution_count": 40,
   "id": "35f13bf2-7e48-48c2-addd-a5a91a7a63e3",
   "metadata": {},
   "outputs": [],
   "source": [
    "#shuffle\n",
    "from random import shuffle\n",
    "shuffle(sequence)"
   ]
  },
  {
   "cell_type": "code",
   "execution_count": 41,
   "id": "67128903-f82b-43b2-831c-c4ca9098bf45",
   "metadata": {},
   "outputs": [
    {
     "data": {
      "text/plain": [
       "[11, 5, 17, 19, 9, 0, 16, 1, 15, 6, 10, 13, 14, 12, 7, 3, 8, 2, 18, 4]"
      ]
     },
     "execution_count": 41,
     "metadata": {},
     "output_type": "execute_result"
    }
   ],
   "source": [
    "sequence"
   ]
  },
  {
   "cell_type": "code",
   "execution_count": null,
   "id": "e846d572-0fb7-4a80-b2ba-eb37e621de92",
   "metadata": {},
   "outputs": [],
   "source": []
  }
 ],
 "metadata": {
  "kernelspec": {
   "display_name": "Python 3 (ipykernel)",
   "language": "python",
   "name": "python3"
  },
  "language_info": {
   "codemirror_mode": {
    "name": "ipython",
    "version": 3
   },
   "file_extension": ".py",
   "mimetype": "text/x-python",
   "name": "python",
   "nbconvert_exporter": "python",
   "pygments_lexer": "ipython3",
   "version": "3.12.2"
  }
 },
 "nbformat": 4,
 "nbformat_minor": 5
}
