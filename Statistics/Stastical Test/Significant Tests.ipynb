{
 "cells": [
  {
   "cell_type": "markdown",
   "id": "1d83d05d-5a3c-4f32-96ba-2425a6083a91",
   "metadata": {},
   "source": [
    "#### About Notebook\n",
    "- In this notebook, we will be looking at various tests available to vaildate the hypothesis testing.\n",
    "- We will understand the tests and their significanes."
   ]
  },
  {
   "cell_type": "markdown",
   "id": "de519b79-98e0-4217-928e-034763949b14",
   "metadata": {},
   "source": [
    "#### Background\n",
    "Hypothesis Testing is conducted to prove that either to reject the null hypothesis or to reject the rejection of null hypothesis"
   ]
  },
  {
   "cell_type": "markdown",
   "id": "ab536561-0ac8-4bb4-a0cd-630b1407c362",
   "metadata": {},
   "source": [
    "#### Test Data"
   ]
  },
  {
   "cell_type": "code",
   "execution_count": 3,
   "id": "74883cfb-82f9-4b90-8532-ad43f8e731e5",
   "metadata": {},
   "outputs": [],
   "source": [
    "#Import seed and random\n",
    "from numpy.random import seed,randn\n",
    "#Import mean and standard deviation\n",
    "from numpy import mean, std"
   ]
  },
  {
   "cell_type": "code",
   "execution_count": 4,
   "id": "0c03fef8-6bc8-4ceb-b5e0-e9f327995d23",
   "metadata": {},
   "outputs": [],
   "source": [
    "#Seed the random number generator\n",
    "seed(1)"
   ]
  },
  {
   "cell_type": "markdown",
   "id": "8b9aeef3-1e4d-4d07-a49a-413e1c6b60ba",
   "metadata": {},
   "source": [
    "#### About Test Data\n",
    "- data1 and data2 produces gaussian distribution\n",
    "- They follow the general notation [coefficient * data + standard_deviation]"
   ]
  },
  {
   "cell_type": "code",
   "execution_count": 5,
   "id": "5116cee8-339a-4905-b61c-f23877beb3ee",
   "metadata": {},
   "outputs": [],
   "source": [
    "#Test Data\n",
    "data1 = 5 * randn(100) + 50\n",
    "data2 = 5 * randn(100) + 51"
   ]
  },
  {
   "cell_type": "markdown",
   "id": "1ce96a6e-aaa3-4a87-972d-e9132a9c4bcb",
   "metadata": {},
   "source": [
    "#### Summarize\n",
    "- We would like to summarize the data using mean and standard deviation"
   ]
  },
  {
   "cell_type": "code",
   "execution_count": 7,
   "id": "6d32adc5-75c9-4e0e-8a06-9fe8c7137537",
   "metadata": {},
   "outputs": [
    {
     "name": "stdout",
     "output_type": "stream",
     "text": [
      "Data1: mean = 50.303 and std = 4.426\n"
     ]
    }
   ],
   "source": [
    "#Data 1\n",
    "print('Data1: mean = %.3f and std = %.3f'%(mean(data1), std(data1)))"
   ]
  },
  {
   "cell_type": "code",
   "execution_count": 8,
   "id": "141c3dd2-9ba2-4c44-9019-d1bd3ad14be4",
   "metadata": {},
   "outputs": [
    {
     "name": "stdout",
     "output_type": "stream",
     "text": [
      "Data 2: mean = 51.764 and std = 4.660\n"
     ]
    }
   ],
   "source": [
    "#Data 2\n",
    "print('Data 2: mean = %.3f and std = %.3f'%(mean(data2),std(data2)))"
   ]
  },
  {
   "cell_type": "markdown",
   "id": "32765100-e931-469a-a65f-96a3aca10afc",
   "metadata": {},
   "source": [
    "#### Observation\n",
    "- From the summary, we can suggest that both of the data vary by mean"
   ]
  },
  {
   "cell_type": "markdown",
   "id": "1091ab6b-19c8-4671-bf75-67f153dc0445",
   "metadata": {},
   "source": [
    "#### Student's t-test\n",
    "- Student's t-test is utilized for testing two independent variables\n",
    "- Student's t-test is used to compare the means of two indepedent samples of a given variable\n",
    "- ##### Eg: In housing dataset, does a house having a two bedroom vs a house having three bedroom affect the price of the house ?\n",
    "- ##### Eg: In housing dataset, does a house having lift affect the price of the house vs the house without having lift facility ?"
   ]
  },
  {
   "cell_type": "markdown",
   "id": "c80b98e0-3f5e-4c3c-9ba4-f54d8f763670",
   "metadata": {},
   "source": [
    "#### Additional Information\n",
    "- Student's t-test expects the variance to be equal among the independent variable\n",
    "- If not we should set it to false using <b>equal_var = False</b>"
   ]
  },
  {
   "cell_type": "code",
   "execution_count": 9,
   "id": "6fc211c7-22c8-4265-889b-7e33a8a695f7",
   "metadata": {},
   "outputs": [],
   "source": [
    "# Since we have prepared the data, let's calculate the student's t-test\n",
    "from scipy.stats import ttest_ind\n",
    "stats, p = ttest_ind(data1,data2)"
   ]
  },
  {
   "cell_type": "code",
   "execution_count": 10,
   "id": "c37591f9-b1ad-4587-a977-ec0d1ea280e2",
   "metadata": {},
   "outputs": [
    {
     "name": "stdout",
     "output_type": "stream",
     "text": [
      "Statistics = -2.262, p = 0.025\n"
     ]
    }
   ],
   "source": [
    "print('Statistics = %.3f, p = %.3f'%(stats,p))"
   ]
  },
  {
   "cell_type": "code",
   "execution_count": 11,
   "id": "e2d70091-3a4e-49e9-a770-93c018f95ee7",
   "metadata": {},
   "outputs": [
    {
     "name": "stdout",
     "output_type": "stream",
     "text": [
      "Different distribution (reject H0)\n"
     ]
    }
   ],
   "source": [
    "if p > 0.05:\n",
    "    print('Same distribution (fail to reject H0)')\n",
    "else:\n",
    "    print('Different distribution (reject H0)')"
   ]
  },
  {
   "cell_type": "markdown",
   "id": "e87a87ce-453b-4869-8cc6-3c4362c22e73",
   "metadata": {},
   "source": [
    "#### Observation\n",
    "- We would conclude that both the independent data have different distribution"
   ]
  },
  {
   "cell_type": "markdown",
   "id": "0a3647d7-bd85-42dc-8bc0-a7acdd8cf4c5",
   "metadata": {},
   "source": [
    "#### Paired Student's t-Test\n",
    "- Paired Student's t-Test works on the same principal as that of student's t-Test\n",
    "- But, Paired Student's t-Test works on dependant variable"
   ]
  },
  {
   "cell_type": "markdown",
   "id": "a98bb4ed-ca65-43df-933e-c067cdb41a0f",
   "metadata": {},
   "source": [
    "##### About our data\n",
    "- We would use the datasample we had used for student's t-test\n",
    "- For sake of demonstration, we would use the same sample data used for student's t-test\n",
    "- Assuming that they are paired"
   ]
  },
  {
   "cell_type": "code",
   "execution_count": 12,
   "id": "b20a5f8a-d299-4e6f-ac4f-26826ef38528",
   "metadata": {},
   "outputs": [],
   "source": [
    "#Importing the package\n",
    "from scipy.stats import ttest_rel"
   ]
  },
  {
   "cell_type": "code",
   "execution_count": 14,
   "id": "f6f18724-29d8-422b-87ba-4a290823f7dc",
   "metadata": {},
   "outputs": [],
   "source": [
    "#Compare sample\n",
    "stats, p = ttest_rel(data1,data2)"
   ]
  },
  {
   "cell_type": "code",
   "execution_count": 15,
   "id": "42c11015-8ba2-4f6c-8c45-c3a66fe24a8a",
   "metadata": {},
   "outputs": [
    {
     "name": "stdout",
     "output_type": "stream",
     "text": [
      "Statistics = -2.372 and P Value = 0.020\n",
      "Different Distribution (reject H0)\n"
     ]
    }
   ],
   "source": [
    "print(\"Statistics = %.3f and P Value = %.3f\"%(stats,p))\n",
    "if p > 0.05:\n",
    "    print('Same Distribution (fail to reject the H0)')\n",
    "else:\n",
    "    print('Different Distribution (reject H0)')"
   ]
  },
  {
   "cell_type": "markdown",
   "id": "f6b60dca-bc30-4d5a-8877-df54197e3b4d",
   "metadata": {},
   "source": [
    "##### Observation\n",
    "- We arrive at conclusion that we have different distribution and P-Value is greater than alpha value"
   ]
  },
  {
   "cell_type": "markdown",
   "id": "c5de554b-c50f-4f51-b379-8270772822cf",
   "metadata": {},
   "source": [
    "#### Analysis of Variance Test\n",
    "- We use the Analysis of Variance Test (AOVA) to calculate the mean difference of more than two independent features\n",
    "- Stastical test assumes that the mean across 2 or more groups are equal\n",
    "- If any one data sample has different distribution / vary by mean, the null hypothesis is rejected\n",
    "- The purpose of a one-way analysis of variance (AVOA) is to compare the means of two or more groups (the independent variable) on one dependent variable to see if the group means are significantly different from each other."
   ]
  },
  {
   "cell_type": "code",
   "execution_count": 16,
   "id": "9db49cd3-8d43-493f-89ff-b3ce59c15572",
   "metadata": {},
   "outputs": [],
   "source": [
    "#Importing numpy functions\n",
    "from numpy.random import seed, randn\n",
    "#Importing oneway from scipy\n",
    "from scipy.stats import f_oneway"
   ]
  },
  {
   "cell_type": "code",
   "execution_count": 18,
   "id": "f021f65a-0834-4914-ae23-16545bfe860d",
   "metadata": {},
   "outputs": [],
   "source": [
    "#Seed\n",
    "seed(1)"
   ]
  },
  {
   "cell_type": "code",
   "execution_count": 19,
   "id": "e9c4158e-755d-4b71-bb10-2e257bc3b46a",
   "metadata": {},
   "outputs": [],
   "source": [
    "#Generate three independent variables\n",
    "data1 = 5 * randn(100) + 50\n",
    "data2 = 5 * randn(100) + 50\n",
    "data3 = 5 * randn(100) + 52"
   ]
  },
  {
   "cell_type": "code",
   "execution_count": 20,
   "id": "622d054e-4001-4a2a-8c96-2d171a52216c",
   "metadata": {},
   "outputs": [],
   "source": [
    "#Compare Samples\n",
    "stats, p = f_oneway(data1,data2,data3)"
   ]
  },
  {
   "cell_type": "code",
   "execution_count": 22,
   "id": "413dec12-b163-4745-8604-8ea92742d47e",
   "metadata": {},
   "outputs": [
    {
     "name": "stdout",
     "output_type": "stream",
     "text": [
      "Statistics 3.655, p=0.027\n",
      "Different distribution (reject H0)\n"
     ]
    }
   ],
   "source": [
    "print('Statistics %.3f, p=%.3f'%(stats,p))\n",
    "if p > 0.05:\n",
    "    print('Same distribution (fail to reject null hypothesis)')\n",
    "else:\n",
    "    print('Different distribution (reject H0)')"
   ]
  },
  {
   "cell_type": "markdown",
   "id": "3db315f8-ba30-4a8d-9e3e-2cafe624441c",
   "metadata": {},
   "source": [
    "#### Conclusion\n",
    "- I have briefely explained different test methods for Null Hypothesis"
   ]
  }
 ],
 "metadata": {
  "kernelspec": {
   "display_name": "Python 3 (ipykernel)",
   "language": "python",
   "name": "python3"
  },
  "language_info": {
   "codemirror_mode": {
    "name": "ipython",
    "version": 3
   },
   "file_extension": ".py",
   "mimetype": "text/x-python",
   "name": "python",
   "nbconvert_exporter": "python",
   "pygments_lexer": "ipython3",
   "version": "3.12.2"
  }
 },
 "nbformat": 4,
 "nbformat_minor": 5
}
