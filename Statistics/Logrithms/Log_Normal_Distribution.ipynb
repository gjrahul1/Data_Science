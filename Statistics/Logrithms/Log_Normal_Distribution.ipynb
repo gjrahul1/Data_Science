{
 "cells": [
  {
   "cell_type": "markdown",
   "id": "639a7404-9975-4afd-acfa-8feda6784a88",
   "metadata": {},
   "source": [
    "#### Goal\n",
    "To learn and implement log normal distribution on income dataset"
   ]
  },
  {
   "cell_type": "code",
   "execution_count": 20,
   "id": "37e1de57-06c2-4311-9f85-1bdd2ffca230",
   "metadata": {},
   "outputs": [],
   "source": [
    "import pandas as pd\n",
    "import numpy as np"
   ]
  },
  {
   "cell_type": "code",
   "execution_count": 4,
   "id": "8cd1ea3c-a367-4529-aa69-19df76243896",
   "metadata": {},
   "outputs": [
    {
     "data": {
      "text/html": [
       "<div>\n",
       "<style scoped>\n",
       "    .dataframe tbody tr th:only-of-type {\n",
       "        vertical-align: middle;\n",
       "    }\n",
       "\n",
       "    .dataframe tbody tr th {\n",
       "        vertical-align: top;\n",
       "    }\n",
       "\n",
       "    .dataframe thead th {\n",
       "        text-align: right;\n",
       "    }\n",
       "</style>\n",
       "<table border=\"1\" class=\"dataframe\">\n",
       "  <thead>\n",
       "    <tr style=\"text-align: right;\">\n",
       "      <th></th>\n",
       "      <th>income($)</th>\n",
       "      <th>count</th>\n",
       "    </tr>\n",
       "  </thead>\n",
       "  <tbody>\n",
       "    <tr>\n",
       "      <th>18</th>\n",
       "      <td>95000</td>\n",
       "      <td>2753</td>\n",
       "    </tr>\n",
       "    <tr>\n",
       "      <th>24</th>\n",
       "      <td>125000</td>\n",
       "      <td>1992</td>\n",
       "    </tr>\n",
       "    <tr>\n",
       "      <th>27</th>\n",
       "      <td>140000</td>\n",
       "      <td>1424</td>\n",
       "    </tr>\n",
       "    <tr>\n",
       "      <th>16</th>\n",
       "      <td>85000</td>\n",
       "      <td>3565</td>\n",
       "    </tr>\n",
       "    <tr>\n",
       "      <th>23</th>\n",
       "      <td>120000</td>\n",
       "      <td>1932</td>\n",
       "    </tr>\n",
       "    <tr>\n",
       "      <th>25</th>\n",
       "      <td>130000</td>\n",
       "      <td>1656</td>\n",
       "    </tr>\n",
       "  </tbody>\n",
       "</table>\n",
       "</div>"
      ],
      "text/plain": [
       "    income($)  count\n",
       "18      95000   2753\n",
       "24     125000   1992\n",
       "27     140000   1424\n",
       "16      85000   3565\n",
       "23     120000   1932\n",
       "25     130000   1656"
      ]
     },
     "execution_count": 4,
     "metadata": {},
     "output_type": "execute_result"
    }
   ],
   "source": [
    "df = pd.read_csv(r\"C:\\Users\\gjrah\\Documents\\Data Science\\Data_Science\\Statistics\\Datasets\\Logrithms\\income.csv\")\n",
    "df.sample(6)"
   ]
  },
  {
   "cell_type": "code",
   "execution_count": 9,
   "id": "8a374430-efab-414c-8c38-c407e9d1687d",
   "metadata": {},
   "outputs": [],
   "source": [
    "import seaborn as sns"
   ]
  },
  {
   "cell_type": "code",
   "execution_count": 18,
   "id": "8f8d3b62-248f-4558-a3dd-a52fa6706d28",
   "metadata": {},
   "outputs": [
    {
     "data": {
      "text/plain": [
       "<Axes: xlabel='income($)', ylabel='Count'>"
      ]
     },
     "execution_count": 18,
     "metadata": {},
     "output_type": "execute_result"
    },
    {
     "data": {
      "image/png": "[encoded data removed]",
      "text/plain": [
       "<Figure size 640x480 with 1 Axes>"
      ]
     },
     "metadata": {},
     "output_type": "display_data"
    }
   ],
   "source": [
    "sns.histplot(data=df,x='income($)',kde=True)"
   ]
  },
  {
   "cell_type": "markdown",
   "id": "cb1ded9e-81b4-4b9b-8eba-ffd1cac6c318",
   "metadata": {},
   "source": [
    "- From the above visualization we cannot derive any meaningful results\n",
    "- Therefore,let's apply the log function on the income column"
   ]
  },
  {
   "cell_type": "code",
   "execution_count": 21,
   "id": "91566b91-09bb-4afe-90b6-7a5c4331ff84",
   "metadata": {},
   "outputs": [],
   "source": [
    "df['log10'] = np.log10(df['income($)'])"
   ]
  },
  {
   "cell_type": "code",
   "execution_count": 30,
   "id": "bd5c4e62-cb6e-42cb-b112-aaf80716f2db",
   "metadata": {},
   "outputs": [
    {
     "data": {
      "text/html": [
       "<div>\n",
       "<style scoped>\n",
       "    .dataframe tbody tr th:only-of-type {\n",
       "        vertical-align: middle;\n",
       "    }\n",
       "\n",
       "    .dataframe tbody tr th {\n",
       "        vertical-align: top;\n",
       "    }\n",
       "\n",
       "    .dataframe thead th {\n",
       "        text-align: right;\n",
       "    }\n",
       "</style>\n",
       "<table border=\"1\" class=\"dataframe\">\n",
       "  <thead>\n",
       "    <tr style=\"text-align: right;\">\n",
       "      <th></th>\n",
       "      <th>income($)</th>\n",
       "      <th>count</th>\n",
       "      <th>log10</th>\n",
       "    </tr>\n",
       "  </thead>\n",
       "  <tbody>\n",
       "    <tr>\n",
       "      <th>12</th>\n",
       "      <td>65000</td>\n",
       "      <td>4411</td>\n",
       "      <td>4.812913</td>\n",
       "    </tr>\n",
       "    <tr>\n",
       "      <th>26</th>\n",
       "      <td>135000</td>\n",
       "      <td>1547</td>\n",
       "      <td>5.130334</td>\n",
       "    </tr>\n",
       "    <tr>\n",
       "      <th>16</th>\n",
       "      <td>85000</td>\n",
       "      <td>3565</td>\n",
       "      <td>4.929419</td>\n",
       "    </tr>\n",
       "    <tr>\n",
       "      <th>29</th>\n",
       "      <td>150000</td>\n",
       "      <td>1134</td>\n",
       "      <td>5.176091</td>\n",
       "    </tr>\n",
       "    <tr>\n",
       "      <th>22</th>\n",
       "      <td>115000</td>\n",
       "      <td>2278</td>\n",
       "      <td>5.060698</td>\n",
       "    </tr>\n",
       "  </tbody>\n",
       "</table>\n",
       "</div>"
      ],
      "text/plain": [
       "    income($)  count     log10\n",
       "12      65000   4411  4.812913\n",
       "26     135000   1547  5.130334\n",
       "16      85000   3565  4.929419\n",
       "29     150000   1134  5.176091\n",
       "22     115000   2278  5.060698"
      ]
     },
     "execution_count": 30,
     "metadata": {},
     "output_type": "execute_result"
    }
   ],
   "source": [
    "df.sample(5)"
   ]
  },
  {
   "cell_type": "markdown",
   "id": "f2b645e4-cb72-46e2-9689-885734807e42",
   "metadata": {},
   "source": [
    "#### Understanding the log function\n",
    "- We can observe that income within the range of thousands fall under the 4\n",
    "- Income in one - lakhs range fall under 5"
   ]
  },
  {
   "cell_type": "code",
   "execution_count": 27,
   "id": "f58303ad-3e75-413d-be6d-cf1e0db67b2a",
   "metadata": {},
   "outputs": [
    {
     "data": {
      "text/plain": [
       "[Text(0.5, 0, 'Income'), Text(0, 0.5, 'Count')]"
      ]
     },
     "execution_count": 27,
     "metadata": {},
     "output_type": "execute_result"
    },
    {
     "data": {
      "image/png": "[encoded data removed]",
      "text/plain": [
       "<Figure size 640x480 with 1 Axes>"
      ]
     },
     "metadata": {},
     "output_type": "display_data"
    }
   ],
   "source": [
    "pt = sns.histplot(data=df,x='log10',kde=True)\n",
    "pt.set(xlabel='Income',ylabel='Count')"
   ]
  },
  {
   "cell_type": "markdown",
   "id": "8e0cffce-3e4e-47bc-ac41-453208c9a7c9",
   "metadata": {},
   "source": [
    "### Conclusion\n",
    "- The bell curve is continuous, hence no outliners\n",
    "- I can understand from the visualization that we have more people with higher income\n",
    "- Higher order income ranges are from 65000 to 135000 since the graph has higher count from 4.8 to 5.2"
   ]
  },
  {
   "cell_type": "code",
   "execution_count": null,
   "id": "e0ecbd48-39ef-487b-a7fb-8759f5b32194",
   "metadata": {},
   "outputs": [],
   "source": []
  }
 ],
 "metadata": {
  "kernelspec": {
   "display_name": "Python 3 (ipykernel)",
   "language": "python",
   "name": "python3"
  },
  "language_info": {
   "codemirror_mode": {
    "name": "ipython",
    "version": 3
   },
   "file_extension": ".py",
   "mimetype": "text/x-python",
   "name": "python",
   "nbconvert_exporter": "python",
   "pygments_lexer": "ipython3",
   "version": "3.12.2"
  }
 },
 "nbformat": 4,
 "nbformat_minor": 5
}
