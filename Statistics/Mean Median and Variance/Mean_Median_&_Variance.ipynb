{
 "cells": [
  {
   "cell_type": "markdown",
   "id": "d463b867-ca22-4c5d-b6f0-bddadd2823d1",
   "metadata": {},
   "source": [
    "## Mean, Median & Variance"
   ]
  },
  {
   "cell_type": "markdown",
   "id": "8c7c0da6-86e8-4fb7-be69-9d1c852885a2",
   "metadata": {},
   "source": [
    "![Introduction](MMMR_TNAIL.jpg)"
   ]
  },
  {
   "cell_type": "markdown",
   "id": "bfd7f4c9-cc87-4afe-85f4-db7151e7a1ef",
   "metadata": {},
   "source": [
    "###### The above image should be self explanatory on the topic, we are going to discuss today"
   ]
  },
  {
   "cell_type": "markdown",
   "id": "9cd2c4dd-914c-4ddd-bce7-810e29235de5",
   "metadata": {},
   "source": [
    "### Mean\n"
   ]
  },
  {
   "cell_type": "markdown",
   "id": "2c0b970a-ee1c-411b-a0e2-bdfec54bdb20",
   "metadata": {},
   "source": [
    "The mean (average) of a dataset is calculated by summing all the values and dividing by the number of values.\n",
    "\n",
    "**Formula:**\n",
    "\n",
    "μ = (∑xᵢ) / n\n",
    "\n",
    "Where:\n",
    "\n",
    "*   μ (mu) represents the mean.\n",
    "*   ∑ (sigma) denotes the sum.\n",
    "*   xᵢ represents each individual value in the dataset.\n",
    "*   n represents the total number of values in the dataset.\n",
    "\n",
    "**Example:**\n",
    "\n",
    "For the dataset {2, 4, 6, 8}:\n",
    "\n",
    "μ = (2 + 4 + 6 + 8) / 4 = 20 / 4 = 5\n",
    "\n",
    "### Median\n",
    "\n",
    "The median is the middle value in a sorted dataset.\n",
    "\n",
    "**Procedure:**\n",
    "\n",
    "1.  Sort the dataset in ascending order.\n",
    "2.  If the number of values (n) is odd, the median is the value at position (n+1)/2.\n",
    "3.  If the number of values (n) is even, the median is the average of the values at positions n/2 and (n/2) + 1.\n",
    "\n",
    "**Example (Odd):**\n",
    "\n",
    "For the dataset {1, 3, 5, 7, 9}:\n",
    "\n",
    "Sorted: {1, 3, 5, 7, 9}\n",
    "\n",
    "n = 5\n",
    "\n",
    "Median position: (5+1)/2 = 3\n",
    "\n",
    "Median = 5\n",
    "\n",
    "**Example (Even):**\n",
    "\n",
    "For the dataset {1, 3, 5, 7}:\n",
    "\n",
    "Sorted: {1, 3, 5, 7}\n",
    "\n",
    "n = 4\n",
    "\n",
    "Median positions: 4/2 = 2 and (4/2) + 1 = 3\n",
    "\n",
    "Median = (3 + 5) / 2 = 4\n"
   ]
  },
  {
   "cell_type": "code",
   "execution_count": 11,
   "id": "634d6de9-868e-433b-8853-8779ba60ae7a",
   "metadata": {},
   "outputs": [],
   "source": [
    "from numpy.random import seed\n",
    "from numpy.random import randn\n",
    "from numpy import median,mean,var\n",
    "from scipy.stats import norm\n",
    "\n",
    "#Seed the random number generator\n",
    "seed(1)\n",
    "#generate univariate observations\n",
    "data = 5 * randn(10000) + 50"
   ]
  },
  {
   "cell_type": "code",
   "execution_count": 12,
   "id": "19e17fe8-22be-4d64-b00f-057a02a2266e",
   "metadata": {},
   "outputs": [
    {
     "name": "stdout",
     "output_type": "stream",
     "text": [
      "Median: 50.04227027048377\n",
      "Mean: 50.04886328349552\n",
      "Variance: 24.93932903879117\n"
     ]
    }
   ],
   "source": [
    "#Median\n",
    "result_median = median(data)\n",
    "print(f\"Median: {result_median}\")\n",
    "\n",
    "#Mean\n",
    "result_mean = mean(data)\n",
    "print(f\"Mean: {result_mean}\")\n",
    "\n",
    "#Variance\n",
    "result_variance = var(data)\n",
    "print(f\"Variance: {result_variance}\")"
   ]
  },
  {
   "cell_type": "markdown",
   "id": "dbb32b41-7e7e-40f0-b8e8-9b808a63ad92",
   "metadata": {},
   "source": [
    "##### Observation\n",
    "- We get median of 50.04\n",
    "- Mean: 50.04\n",
    "- We get similar value since the data represents Gaussian Distribution"
   ]
  },
  {
   "cell_type": "markdown",
   "id": "9e003242-7f6c-48d8-915e-6fdc1394a0cd",
   "metadata": {},
   "source": [
    "### Variance\n",
    "\n",
    "##### Some points I took notice of:\n",
    "- The variance of a distribution refers to how much on average that observations vary or differ from the mean value\n",
    "- Variance as a measure of spread of a distribution\n",
    "- A low variance will have values grouped around the mean\n",
    "- A high variance means the values are spread out\n",
    "\n",
    "#### Theory\n",
    "\n",
    "Variance measures the spread or dispersion of a dataset around its mean.\n",
    "\n",
    "**Population Variance Formula:**\n",
    "\n",
    "σ² = (∑(xᵢ - μ)²) / N\n",
    "\n",
    "Where:\n",
    "\n",
    "*   σ² (sigma squared) represents the population variance.\n",
    "*   xᵢ represents each individual value in the population.\n",
    "*   μ represents the population mean.\n",
    "*   N represents the total number of values in the population.\n",
    "\n",
    "**Sample Variance Formula:**\n",
    "\n",
    "s² = (∑(xᵢ - x̄)²) / (n - 1)\n",
    "\n",
    "Where:\n",
    "\n",
    "*   s² represents the sample variance.\n",
    "*   xᵢ represents each individual value in the sample.\n",
    "*   x̄ (x-bar) represents the sample mean.\n",
    "*   n represents the total number of values in the sample. The (n-1) is known as Bessel's correction, and is used to make the sample variance an unbiased estimator of the population variance.\n",
    "\n",
    "**Example (Sample):**\n",
    "\n",
    "For the dataset {1, 3, 5, 7}:\n",
    "\n",
    "1.  Calculate the sample mean (x̄): (1+3+5+7)/4 = 4\n",
    "2.  Calculate the squared differences: (1-4)²=9, (3-4)²=1, (5-4)²=1, (7-4)²=9\n",
    "3.  Sum the squared differences: 9+1+1+9 = 20\n",
    "4.  Divide by (n-1): 20/(4-1) = 20/3 ≈ 6.67\n",
    "\n",
    "Therefore, s² ≈ 6.67"
   ]
  },
  {
   "cell_type": "code",
   "execution_count": 9,
   "id": "8d4aeb75-8cff-425a-98a1-2c2d9836900e",
   "metadata": {},
   "outputs": [],
   "source": [
    "import numpy\n",
    "#X-axis for the plot\n",
    "x_axis = numpy.arange(-3,3,0.001)"
   ]
  },
  {
   "cell_type": "code",
   "execution_count": 10,
   "id": "1739a562-b6a7-47fa-adad-e6010c8e5b3c",
   "metadata": {},
   "outputs": [
    {
     "data": {
      "text/plain": [
       "[<matplotlib.lines.Line2D at 0x20ac10db710>]"
      ]
     },
     "execution_count": 10,
     "metadata": {},
     "output_type": "execute_result"
    },
    {
     "data": {
      "image/png": "[encoded data removed]",
      "text/plain": [
       "<Figure size 640x480 with 1 Axes>"
      ]
     },
     "metadata": {},
     "output_type": "display_data"
    }
   ],
   "source": [
    "from matplotlib import pyplot as plt\n",
    "\n",
    "plt.plot(x_axis,norm.pdf(x_axis,0,0.5))\n",
    "plt.plot(x_axis,norm.pdf(x_axis,0,1))"
   ]
  },
  {
   "cell_type": "markdown",
   "id": "a0fb7b34-616b-4ff1-9db9-62c36424769e",
   "metadata": {},
   "source": [
    "##### Observation\n",
    "- The blue curve denotes high variance\n",
    "- The orange curve denoate low variance"
   ]
  },
  {
   "cell_type": "code",
   "execution_count": null,
   "id": "7da057af-415d-4ed1-b0cc-73bab91c2e8b",
   "metadata": {},
   "outputs": [],
   "source": []
  }
 ],
 "metadata": {
  "kernelspec": {
   "display_name": "Python 3 (ipykernel)",
   "language": "python",
   "name": "python3"
  },
  "language_info": {
   "codemirror_mode": {
    "name": "ipython",
    "version": 3
   },
   "file_extension": ".py",
   "mimetype": "text/x-python",
   "name": "python",
   "nbconvert_exporter": "python",
   "pygments_lexer": "ipython3",
   "version": "3.12.2"
  }
 },
 "nbformat": 4,
 "nbformat_minor": 5
}
