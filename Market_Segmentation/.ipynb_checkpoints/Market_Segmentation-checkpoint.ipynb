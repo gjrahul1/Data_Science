{
 "cells": [
  {
   "cell_type": "code",
   "execution_count": 1,
   "id": "42ee8d26-cdc0-4672-a538-1c6374b7e8bb",
   "metadata": {},
   "outputs": [],
   "source": [
    "#Importing the necessary modules\n",
    "import numpy as np\n",
    "import pandas as pd"
   ]
  },
  {
   "cell_type": "code",
   "execution_count": 2,
   "id": "eb6bb376-cb6a-41b9-837a-1cbd67f4c8de",
   "metadata": {},
   "outputs": [],
   "source": [
    "#loading the dataset\n",
    "mac_donalds_data = pd.read_csv('mcdonalds.csv')"
   ]
  },
  {
   "cell_type": "code",
   "execution_count": 3,
   "id": "ad757173-fd36-45ea-a031-f6e8734cf8b7",
   "metadata": {},
   "outputs": [
    {
     "data": {
      "text/plain": [
       "Index(['yummy', 'convenient', 'spicy', 'fattening', 'greasy', 'fast', 'cheap',\n",
       "       'tasty', 'expensive', 'healthy', 'disgusting', 'Like', 'Age',\n",
       "       'VisitFrequency', 'Gender'],\n",
       "      dtype='object')"
      ]
     },
     "execution_count": 3,
     "metadata": {},
     "output_type": "execute_result"
    }
   ],
   "source": [
    "#Variable Names\n",
    "mac_donalds_data.columns"
   ]
  },
  {
   "cell_type": "code",
   "execution_count": 4,
   "id": "10ed2356-2d9f-43f4-889d-bdc9f387a6df",
   "metadata": {},
   "outputs": [
    {
     "data": {
      "text/plain": [
       "(1453, 15)"
      ]
     },
     "execution_count": 4,
     "metadata": {},
     "output_type": "execute_result"
    }
   ],
   "source": [
    "#Shape\n",
    "mac_donalds_data.shape"
   ]
  },
  {
   "cell_type": "markdown",
   "id": "a7fd8f0e-31f8-4c75-95db-b71feca09fda",
   "metadata": {},
   "source": [
    "##### Observation\n",
    "- 1453 is the no. of data points\n",
    "- 15 is the no. of features / columns"
   ]
  },
  {
   "cell_type": "code",
   "execution_count": 5,
   "id": "c026ed05-5cc5-459b-a047-e777b1a04724",
   "metadata": {},
   "outputs": [
    {
     "data": {
      "text/html": [
       "<div>\n",
       "<style scoped>\n",
       "    .dataframe tbody tr th:only-of-type {\n",
       "        vertical-align: middle;\n",
       "    }\n",
       "\n",
       "    .dataframe tbody tr th {\n",
       "        vertical-align: top;\n",
       "    }\n",
       "\n",
       "    .dataframe thead th {\n",
       "        text-align: right;\n",
       "    }\n",
       "</style>\n",
       "<table border=\"1\" class=\"dataframe\">\n",
       "  <thead>\n",
       "    <tr style=\"text-align: right;\">\n",
       "      <th></th>\n",
       "      <th>yummy</th>\n",
       "      <th>convenient</th>\n",
       "      <th>spicy</th>\n",
       "      <th>fattening</th>\n",
       "      <th>greasy</th>\n",
       "      <th>fast</th>\n",
       "      <th>cheap</th>\n",
       "      <th>tasty</th>\n",
       "      <th>expensive</th>\n",
       "      <th>healthy</th>\n",
       "      <th>disgusting</th>\n",
       "      <th>Like</th>\n",
       "      <th>Age</th>\n",
       "      <th>VisitFrequency</th>\n",
       "      <th>Gender</th>\n",
       "    </tr>\n",
       "  </thead>\n",
       "  <tbody>\n",
       "    <tr>\n",
       "      <th>0</th>\n",
       "      <td>No</td>\n",
       "      <td>Yes</td>\n",
       "      <td>No</td>\n",
       "      <td>Yes</td>\n",
       "      <td>No</td>\n",
       "      <td>Yes</td>\n",
       "      <td>Yes</td>\n",
       "      <td>No</td>\n",
       "      <td>Yes</td>\n",
       "      <td>No</td>\n",
       "      <td>No</td>\n",
       "      <td>-3</td>\n",
       "      <td>61</td>\n",
       "      <td>Every three months</td>\n",
       "      <td>Female</td>\n",
       "    </tr>\n",
       "    <tr>\n",
       "      <th>1</th>\n",
       "      <td>Yes</td>\n",
       "      <td>Yes</td>\n",
       "      <td>No</td>\n",
       "      <td>Yes</td>\n",
       "      <td>Yes</td>\n",
       "      <td>Yes</td>\n",
       "      <td>Yes</td>\n",
       "      <td>Yes</td>\n",
       "      <td>Yes</td>\n",
       "      <td>No</td>\n",
       "      <td>No</td>\n",
       "      <td>+2</td>\n",
       "      <td>51</td>\n",
       "      <td>Every three months</td>\n",
       "      <td>Female</td>\n",
       "    </tr>\n",
       "    <tr>\n",
       "      <th>2</th>\n",
       "      <td>No</td>\n",
       "      <td>Yes</td>\n",
       "      <td>Yes</td>\n",
       "      <td>Yes</td>\n",
       "      <td>Yes</td>\n",
       "      <td>Yes</td>\n",
       "      <td>No</td>\n",
       "      <td>Yes</td>\n",
       "      <td>Yes</td>\n",
       "      <td>Yes</td>\n",
       "      <td>No</td>\n",
       "      <td>+1</td>\n",
       "      <td>62</td>\n",
       "      <td>Every three months</td>\n",
       "      <td>Female</td>\n",
       "    </tr>\n",
       "  </tbody>\n",
       "</table>\n",
       "</div>"
      ],
      "text/plain": [
       "  yummy convenient spicy fattening greasy fast cheap tasty expensive healthy  \\\n",
       "0    No        Yes    No       Yes     No  Yes   Yes    No       Yes      No   \n",
       "1   Yes        Yes    No       Yes    Yes  Yes   Yes   Yes       Yes      No   \n",
       "2    No        Yes   Yes       Yes    Yes  Yes    No   Yes       Yes     Yes   \n",
       "\n",
       "  disgusting Like  Age      VisitFrequency  Gender  \n",
       "0         No   -3   61  Every three months  Female  \n",
       "1         No   +2   51  Every three months  Female  \n",
       "2         No   +1   62  Every three months  Female  "
      ]
     },
     "execution_count": 5,
     "metadata": {},
     "output_type": "execute_result"
    }
   ],
   "source": [
    "mac_donalds_data.head(3)"
   ]
  },
  {
   "cell_type": "markdown",
   "id": "d2aed033-4def-4e07-91a9-4945bcda3dd0",
   "metadata": {},
   "source": [
    "##### Observation\n",
    "- We can see that the first person in our dataset, <b> aged 61 </b> doesn't like the food <b> (-3) </b>\n",
    "- Next, other person <b>aged 51</b> has liking for the fast food at mc donalds of rating <b> +2 </b>\n",
    "- Both of them are female(s)"
   ]
  },
  {
   "cell_type": "code",
   "execution_count": 6,
   "id": "12a84fde-5530-46d2-8a6d-e342539ab3dd",
   "metadata": {},
   "outputs": [
    {
     "name": "stdout",
     "output_type": "stream",
     "text": [
      "<class 'pandas.core.frame.DataFrame'>\n",
      "RangeIndex: 1453 entries, 0 to 1452\n",
      "Data columns (total 15 columns):\n",
      " #   Column          Non-Null Count  Dtype \n",
      "---  ------          --------------  ----- \n",
      " 0   yummy           1453 non-null   object\n",
      " 1   convenient      1453 non-null   object\n",
      " 2   spicy           1453 non-null   object\n",
      " 3   fattening       1453 non-null   object\n",
      " 4   greasy          1453 non-null   object\n",
      " 5   fast            1453 non-null   object\n",
      " 6   cheap           1453 non-null   object\n",
      " 7   tasty           1453 non-null   object\n",
      " 8   expensive       1453 non-null   object\n",
      " 9   healthy         1453 non-null   object\n",
      " 10  disgusting      1453 non-null   object\n",
      " 11  Like            1453 non-null   object\n",
      " 12  Age             1453 non-null   int64 \n",
      " 13  VisitFrequency  1453 non-null   object\n",
      " 14  Gender          1453 non-null   object\n",
      "dtypes: int64(1), object(14)\n",
      "memory usage: 170.4+ KB\n"
     ]
    }
   ],
   "source": [
    "mac_donalds_data.info()"
   ]
  },
  {
   "cell_type": "markdown",
   "id": "63744d70-1ac4-4a11-a92f-39cd23250f0d",
   "metadata": {},
   "source": [
    "##### Observation\n",
    "- From our previous observation we are aware that our dataset contains 1453 data points\n",
    "- We have <b> 1453 Non-null values </b> which suggests that all our data points have <b> non-null values </b>"
   ]
  },
  {
   "cell_type": "code",
   "execution_count": 9,
   "id": "2a806d9c-4a79-46c7-9dbb-1621263e7704",
   "metadata": {},
   "outputs": [],
   "source": [
    "#Categorical Data to Numerical Data\n",
    "catogerical_cols = ['yummy','convenient','spicy','fattening','greasy','fast','cheap','tasty','expensive','healthy','disgusting']\n",
    "\n",
    "for col in catogerical_cols:\n",
    "    mac_donalds_data[col] = mac_donalds_data[col].map({'Yes':1,'No':0})"
   ]
  },
  {
   "cell_type": "markdown",
   "id": "2309048c-e658-469f-a239-0910b54c20a9",
   "metadata": {},
   "source": [
    "##### Documentation\n",
    "- We have converted the responses into Numerical Input"
   ]
  },
  {
   "cell_type": "code",
   "execution_count": 10,
   "id": "8477514a-b63d-404e-bb48-f054562d66f2",
   "metadata": {},
   "outputs": [],
   "source": [
    "from sklearn.preprocessing import OneHotEncoder\n",
    "encoder = OneHotEncoder()"
   ]
  },
  {
   "cell_type": "code",
   "execution_count": 11,
   "id": "05c877c8-5395-41a1-905a-af18a41bbdbb",
   "metadata": {},
   "outputs": [],
   "source": [
    "mac_donalds_data = pd.get_dummies(mac_donalds_data, columns=['VisitFrequency','Gender'],drop_first = True)"
   ]
  },
  {
   "cell_type": "code",
   "execution_count": 13,
   "id": "7841dd97-11e7-4573-b570-a4a38eb3977b",
   "metadata": {},
   "outputs": [],
   "source": [
    "from sklearn.preprocessing import StandardScaler\n",
    "\n",
    "scaler = StandardScaler()\n",
    "\n",
    "mac_donalds_data['Age_Scaled'] = scaler.fit_transform(mac_donalds_data[['Age']])"
   ]
  },
  {
   "cell_type": "code",
   "execution_count": 14,
   "id": "5b25b1a4-c5c4-46a4-b69e-2fb07e7ef1dd",
   "metadata": {},
   "outputs": [
    {
     "data": {
      "text/html": [
       "<div>\n",
       "<style scoped>\n",
       "    .dataframe tbody tr th:only-of-type {\n",
       "        vertical-align: middle;\n",
       "    }\n",
       "\n",
       "    .dataframe tbody tr th {\n",
       "        vertical-align: top;\n",
       "    }\n",
       "\n",
       "    .dataframe thead th {\n",
       "        text-align: right;\n",
       "    }\n",
       "</style>\n",
       "<table border=\"1\" class=\"dataframe\">\n",
       "  <thead>\n",
       "    <tr style=\"text-align: right;\">\n",
       "      <th></th>\n",
       "      <th>yummy</th>\n",
       "      <th>convenient</th>\n",
       "      <th>spicy</th>\n",
       "      <th>fattening</th>\n",
       "      <th>greasy</th>\n",
       "      <th>fast</th>\n",
       "      <th>cheap</th>\n",
       "      <th>tasty</th>\n",
       "      <th>expensive</th>\n",
       "      <th>healthy</th>\n",
       "      <th>disgusting</th>\n",
       "      <th>Like</th>\n",
       "      <th>Age</th>\n",
       "      <th>VisitFrequency_More than once a week</th>\n",
       "      <th>VisitFrequency_Never</th>\n",
       "      <th>VisitFrequency_Once a month</th>\n",
       "      <th>VisitFrequency_Once a week</th>\n",
       "      <th>VisitFrequency_Once a year</th>\n",
       "      <th>Gender_Male</th>\n",
       "      <th>Age_Scaled</th>\n",
       "    </tr>\n",
       "  </thead>\n",
       "  <tbody>\n",
       "    <tr>\n",
       "      <th>0</th>\n",
       "      <td>0</td>\n",
       "      <td>1</td>\n",
       "      <td>0</td>\n",
       "      <td>1</td>\n",
       "      <td>0</td>\n",
       "      <td>1</td>\n",
       "      <td>1</td>\n",
       "      <td>0</td>\n",
       "      <td>1</td>\n",
       "      <td>0</td>\n",
       "      <td>0</td>\n",
       "      <td>-3</td>\n",
       "      <td>61</td>\n",
       "      <td>False</td>\n",
       "      <td>False</td>\n",
       "      <td>False</td>\n",
       "      <td>False</td>\n",
       "      <td>False</td>\n",
       "      <td>False</td>\n",
       "      <td>1.153258</td>\n",
       "    </tr>\n",
       "    <tr>\n",
       "      <th>1</th>\n",
       "      <td>1</td>\n",
       "      <td>1</td>\n",
       "      <td>0</td>\n",
       "      <td>1</td>\n",
       "      <td>1</td>\n",
       "      <td>1</td>\n",
       "      <td>1</td>\n",
       "      <td>1</td>\n",
       "      <td>1</td>\n",
       "      <td>0</td>\n",
       "      <td>0</td>\n",
       "      <td>+2</td>\n",
       "      <td>51</td>\n",
       "      <td>False</td>\n",
       "      <td>False</td>\n",
       "      <td>False</td>\n",
       "      <td>False</td>\n",
       "      <td>False</td>\n",
       "      <td>False</td>\n",
       "      <td>0.449839</td>\n",
       "    </tr>\n",
       "    <tr>\n",
       "      <th>2</th>\n",
       "      <td>0</td>\n",
       "      <td>1</td>\n",
       "      <td>1</td>\n",
       "      <td>1</td>\n",
       "      <td>1</td>\n",
       "      <td>1</td>\n",
       "      <td>0</td>\n",
       "      <td>1</td>\n",
       "      <td>1</td>\n",
       "      <td>1</td>\n",
       "      <td>0</td>\n",
       "      <td>+1</td>\n",
       "      <td>62</td>\n",
       "      <td>False</td>\n",
       "      <td>False</td>\n",
       "      <td>False</td>\n",
       "      <td>False</td>\n",
       "      <td>False</td>\n",
       "      <td>False</td>\n",
       "      <td>1.223600</td>\n",
       "    </tr>\n",
       "    <tr>\n",
       "      <th>3</th>\n",
       "      <td>1</td>\n",
       "      <td>1</td>\n",
       "      <td>0</td>\n",
       "      <td>1</td>\n",
       "      <td>1</td>\n",
       "      <td>1</td>\n",
       "      <td>1</td>\n",
       "      <td>1</td>\n",
       "      <td>0</td>\n",
       "      <td>0</td>\n",
       "      <td>1</td>\n",
       "      <td>+4</td>\n",
       "      <td>69</td>\n",
       "      <td>False</td>\n",
       "      <td>False</td>\n",
       "      <td>False</td>\n",
       "      <td>True</td>\n",
       "      <td>False</td>\n",
       "      <td>False</td>\n",
       "      <td>1.715993</td>\n",
       "    </tr>\n",
       "  </tbody>\n",
       "</table>\n",
       "</div>"
      ],
      "text/plain": [
       "   yummy  convenient  spicy  fattening  greasy  fast  cheap  tasty  expensive  \\\n",
       "0      0           1      0          1       0     1      1      0          1   \n",
       "1      1           1      0          1       1     1      1      1          1   \n",
       "2      0           1      1          1       1     1      0      1          1   \n",
       "3      1           1      0          1       1     1      1      1          0   \n",
       "\n",
       "   healthy  disgusting Like  Age  VisitFrequency_More than once a week  \\\n",
       "0        0           0   -3   61                                 False   \n",
       "1        0           0   +2   51                                 False   \n",
       "2        1           0   +1   62                                 False   \n",
       "3        0           1   +4   69                                 False   \n",
       "\n",
       "   VisitFrequency_Never  VisitFrequency_Once a month  \\\n",
       "0                 False                        False   \n",
       "1                 False                        False   \n",
       "2                 False                        False   \n",
       "3                 False                        False   \n",
       "\n",
       "   VisitFrequency_Once a week  VisitFrequency_Once a year  Gender_Male  \\\n",
       "0                       False                       False        False   \n",
       "1                       False                       False        False   \n",
       "2                       False                       False        False   \n",
       "3                        True                       False        False   \n",
       "\n",
       "   Age_Scaled  \n",
       "0    1.153258  \n",
       "1    0.449839  \n",
       "2    1.223600  \n",
       "3    1.715993  "
      ]
     },
     "execution_count": 14,
     "metadata": {},
     "output_type": "execute_result"
    }
   ],
   "source": [
    "mac_donalds_data.head(4)"
   ]
  },
  {
   "cell_type": "code",
   "execution_count": 20,
   "id": "8c753e54-010a-4f71-b371-4a3f30779cab",
   "metadata": {},
   "outputs": [
    {
     "ename": "KeyError",
     "evalue": "\"['Age'] not found in axis\"",
     "output_type": "error",
     "traceback": [
      "\u001b[1;31m---------------------------------------------------------------------------\u001b[0m",
      "\u001b[1;31mKeyError\u001b[0m                                  Traceback (most recent call last)",
      "Cell \u001b[1;32mIn[20], line 1\u001b[0m\n\u001b[1;32m----> 1\u001b[0m mac_donalds_data \u001b[38;5;241m=\u001b[39m \u001b[43mmac_donalds_data\u001b[49m\u001b[38;5;241;43m.\u001b[39;49m\u001b[43mdrop\u001b[49m\u001b[43m(\u001b[49m\u001b[38;5;124;43m'\u001b[39;49m\u001b[38;5;124;43mAge\u001b[39;49m\u001b[38;5;124;43m'\u001b[39;49m\u001b[43m,\u001b[49m\u001b[43maxis\u001b[49m\u001b[38;5;241;43m=\u001b[39;49m\u001b[38;5;241;43m1\u001b[39;49m\u001b[43m)\u001b[49m\u001b[38;5;241m.\u001b[39mhead()\n",
      "File \u001b[1;32mC:\\Python312\\Lib\\site-packages\\pandas\\core\\frame.py:5581\u001b[0m, in \u001b[0;36mDataFrame.drop\u001b[1;34m(self, labels, axis, index, columns, level, inplace, errors)\u001b[0m\n\u001b[0;32m   5433\u001b[0m \u001b[38;5;28;01mdef\u001b[39;00m \u001b[38;5;21mdrop\u001b[39m(\n\u001b[0;32m   5434\u001b[0m     \u001b[38;5;28mself\u001b[39m,\n\u001b[0;32m   5435\u001b[0m     labels: IndexLabel \u001b[38;5;241m|\u001b[39m \u001b[38;5;28;01mNone\u001b[39;00m \u001b[38;5;241m=\u001b[39m \u001b[38;5;28;01mNone\u001b[39;00m,\n\u001b[1;32m   (...)\u001b[0m\n\u001b[0;32m   5442\u001b[0m     errors: IgnoreRaise \u001b[38;5;241m=\u001b[39m \u001b[38;5;124m\"\u001b[39m\u001b[38;5;124mraise\u001b[39m\u001b[38;5;124m\"\u001b[39m,\n\u001b[0;32m   5443\u001b[0m ) \u001b[38;5;241m-\u001b[39m\u001b[38;5;241m>\u001b[39m DataFrame \u001b[38;5;241m|\u001b[39m \u001b[38;5;28;01mNone\u001b[39;00m:\n\u001b[0;32m   5444\u001b[0m \u001b[38;5;250m    \u001b[39m\u001b[38;5;124;03m\"\"\"\u001b[39;00m\n\u001b[0;32m   5445\u001b[0m \u001b[38;5;124;03m    Drop specified labels from rows or columns.\u001b[39;00m\n\u001b[0;32m   5446\u001b[0m \n\u001b[1;32m   (...)\u001b[0m\n\u001b[0;32m   5579\u001b[0m \u001b[38;5;124;03m            weight  1.0     0.8\u001b[39;00m\n\u001b[0;32m   5580\u001b[0m \u001b[38;5;124;03m    \"\"\"\u001b[39;00m\n\u001b[1;32m-> 5581\u001b[0m     \u001b[38;5;28;01mreturn\u001b[39;00m \u001b[38;5;28;43msuper\u001b[39;49m\u001b[43m(\u001b[49m\u001b[43m)\u001b[49m\u001b[38;5;241;43m.\u001b[39;49m\u001b[43mdrop\u001b[49m\u001b[43m(\u001b[49m\n\u001b[0;32m   5582\u001b[0m \u001b[43m        \u001b[49m\u001b[43mlabels\u001b[49m\u001b[38;5;241;43m=\u001b[39;49m\u001b[43mlabels\u001b[49m\u001b[43m,\u001b[49m\n\u001b[0;32m   5583\u001b[0m \u001b[43m        \u001b[49m\u001b[43maxis\u001b[49m\u001b[38;5;241;43m=\u001b[39;49m\u001b[43maxis\u001b[49m\u001b[43m,\u001b[49m\n\u001b[0;32m   5584\u001b[0m \u001b[43m        \u001b[49m\u001b[43mindex\u001b[49m\u001b[38;5;241;43m=\u001b[39;49m\u001b[43mindex\u001b[49m\u001b[43m,\u001b[49m\n\u001b[0;32m   5585\u001b[0m \u001b[43m        \u001b[49m\u001b[43mcolumns\u001b[49m\u001b[38;5;241;43m=\u001b[39;49m\u001b[43mcolumns\u001b[49m\u001b[43m,\u001b[49m\n\u001b[0;32m   5586\u001b[0m \u001b[43m        \u001b[49m\u001b[43mlevel\u001b[49m\u001b[38;5;241;43m=\u001b[39;49m\u001b[43mlevel\u001b[49m\u001b[43m,\u001b[49m\n\u001b[0;32m   5587\u001b[0m \u001b[43m        \u001b[49m\u001b[43minplace\u001b[49m\u001b[38;5;241;43m=\u001b[39;49m\u001b[43minplace\u001b[49m\u001b[43m,\u001b[49m\n\u001b[0;32m   5588\u001b[0m \u001b[43m        \u001b[49m\u001b[43merrors\u001b[49m\u001b[38;5;241;43m=\u001b[39;49m\u001b[43merrors\u001b[49m\u001b[43m,\u001b[49m\n\u001b[0;32m   5589\u001b[0m \u001b[43m    \u001b[49m\u001b[43m)\u001b[49m\n",
      "File \u001b[1;32mC:\\Python312\\Lib\\site-packages\\pandas\\core\\generic.py:4788\u001b[0m, in \u001b[0;36mNDFrame.drop\u001b[1;34m(self, labels, axis, index, columns, level, inplace, errors)\u001b[0m\n\u001b[0;32m   4786\u001b[0m \u001b[38;5;28;01mfor\u001b[39;00m axis, labels \u001b[38;5;129;01min\u001b[39;00m axes\u001b[38;5;241m.\u001b[39mitems():\n\u001b[0;32m   4787\u001b[0m     \u001b[38;5;28;01mif\u001b[39;00m labels \u001b[38;5;129;01mis\u001b[39;00m \u001b[38;5;129;01mnot\u001b[39;00m \u001b[38;5;28;01mNone\u001b[39;00m:\n\u001b[1;32m-> 4788\u001b[0m         obj \u001b[38;5;241m=\u001b[39m \u001b[43mobj\u001b[49m\u001b[38;5;241;43m.\u001b[39;49m\u001b[43m_drop_axis\u001b[49m\u001b[43m(\u001b[49m\u001b[43mlabels\u001b[49m\u001b[43m,\u001b[49m\u001b[43m \u001b[49m\u001b[43maxis\u001b[49m\u001b[43m,\u001b[49m\u001b[43m \u001b[49m\u001b[43mlevel\u001b[49m\u001b[38;5;241;43m=\u001b[39;49m\u001b[43mlevel\u001b[49m\u001b[43m,\u001b[49m\u001b[43m \u001b[49m\u001b[43merrors\u001b[49m\u001b[38;5;241;43m=\u001b[39;49m\u001b[43merrors\u001b[49m\u001b[43m)\u001b[49m\n\u001b[0;32m   4790\u001b[0m \u001b[38;5;28;01mif\u001b[39;00m inplace:\n\u001b[0;32m   4791\u001b[0m     \u001b[38;5;28mself\u001b[39m\u001b[38;5;241m.\u001b[39m_update_inplace(obj)\n",
      "File \u001b[1;32mC:\\Python312\\Lib\\site-packages\\pandas\\core\\generic.py:4830\u001b[0m, in \u001b[0;36mNDFrame._drop_axis\u001b[1;34m(self, labels, axis, level, errors, only_slice)\u001b[0m\n\u001b[0;32m   4828\u001b[0m         new_axis \u001b[38;5;241m=\u001b[39m axis\u001b[38;5;241m.\u001b[39mdrop(labels, level\u001b[38;5;241m=\u001b[39mlevel, errors\u001b[38;5;241m=\u001b[39merrors)\n\u001b[0;32m   4829\u001b[0m     \u001b[38;5;28;01melse\u001b[39;00m:\n\u001b[1;32m-> 4830\u001b[0m         new_axis \u001b[38;5;241m=\u001b[39m \u001b[43maxis\u001b[49m\u001b[38;5;241;43m.\u001b[39;49m\u001b[43mdrop\u001b[49m\u001b[43m(\u001b[49m\u001b[43mlabels\u001b[49m\u001b[43m,\u001b[49m\u001b[43m \u001b[49m\u001b[43merrors\u001b[49m\u001b[38;5;241;43m=\u001b[39;49m\u001b[43merrors\u001b[49m\u001b[43m)\u001b[49m\n\u001b[0;32m   4831\u001b[0m     indexer \u001b[38;5;241m=\u001b[39m axis\u001b[38;5;241m.\u001b[39mget_indexer(new_axis)\n\u001b[0;32m   4833\u001b[0m \u001b[38;5;66;03m# Case for non-unique axis\u001b[39;00m\n\u001b[0;32m   4834\u001b[0m \u001b[38;5;28;01melse\u001b[39;00m:\n",
      "File \u001b[1;32mC:\\Python312\\Lib\\site-packages\\pandas\\core\\indexes\\base.py:7070\u001b[0m, in \u001b[0;36mIndex.drop\u001b[1;34m(self, labels, errors)\u001b[0m\n\u001b[0;32m   7068\u001b[0m \u001b[38;5;28;01mif\u001b[39;00m mask\u001b[38;5;241m.\u001b[39many():\n\u001b[0;32m   7069\u001b[0m     \u001b[38;5;28;01mif\u001b[39;00m errors \u001b[38;5;241m!=\u001b[39m \u001b[38;5;124m\"\u001b[39m\u001b[38;5;124mignore\u001b[39m\u001b[38;5;124m\"\u001b[39m:\n\u001b[1;32m-> 7070\u001b[0m         \u001b[38;5;28;01mraise\u001b[39;00m \u001b[38;5;167;01mKeyError\u001b[39;00m(\u001b[38;5;124mf\u001b[39m\u001b[38;5;124m\"\u001b[39m\u001b[38;5;132;01m{\u001b[39;00mlabels[mask]\u001b[38;5;241m.\u001b[39mtolist()\u001b[38;5;132;01m}\u001b[39;00m\u001b[38;5;124m not found in axis\u001b[39m\u001b[38;5;124m\"\u001b[39m)\n\u001b[0;32m   7071\u001b[0m     indexer \u001b[38;5;241m=\u001b[39m indexer[\u001b[38;5;241m~\u001b[39mmask]\n\u001b[0;32m   7072\u001b[0m \u001b[38;5;28;01mreturn\u001b[39;00m \u001b[38;5;28mself\u001b[39m\u001b[38;5;241m.\u001b[39mdelete(indexer)\n",
      "\u001b[1;31mKeyError\u001b[0m: \"['Age'] not found in axis\""
     ]
    }
   ],
   "source": [
    "mac_donalds_data = mac_donalds_data.drop('Age',axis=1).head()"
   ]
  },
  {
   "cell_type": "code",
   "execution_count": 21,
   "id": "fcf8145f-534e-44e3-855a-7754314c3860",
   "metadata": {},
   "outputs": [
    {
     "data": {
      "text/html": [
       "<div>\n",
       "<style scoped>\n",
       "    .dataframe tbody tr th:only-of-type {\n",
       "        vertical-align: middle;\n",
       "    }\n",
       "\n",
       "    .dataframe tbody tr th {\n",
       "        vertical-align: top;\n",
       "    }\n",
       "\n",
       "    .dataframe thead th {\n",
       "        text-align: right;\n",
       "    }\n",
       "</style>\n",
       "<table border=\"1\" class=\"dataframe\">\n",
       "  <thead>\n",
       "    <tr style=\"text-align: right;\">\n",
       "      <th></th>\n",
       "      <th>yummy</th>\n",
       "      <th>convenient</th>\n",
       "      <th>spicy</th>\n",
       "      <th>fattening</th>\n",
       "      <th>greasy</th>\n",
       "      <th>fast</th>\n",
       "      <th>cheap</th>\n",
       "      <th>tasty</th>\n",
       "      <th>expensive</th>\n",
       "      <th>healthy</th>\n",
       "      <th>disgusting</th>\n",
       "      <th>Like</th>\n",
       "      <th>VisitFrequency_More than once a week</th>\n",
       "      <th>VisitFrequency_Never</th>\n",
       "      <th>VisitFrequency_Once a month</th>\n",
       "      <th>VisitFrequency_Once a week</th>\n",
       "      <th>VisitFrequency_Once a year</th>\n",
       "      <th>Gender_Male</th>\n",
       "      <th>Age_Scaled</th>\n",
       "    </tr>\n",
       "  </thead>\n",
       "  <tbody>\n",
       "    <tr>\n",
       "      <th>0</th>\n",
       "      <td>0</td>\n",
       "      <td>1</td>\n",
       "      <td>0</td>\n",
       "      <td>1</td>\n",
       "      <td>0</td>\n",
       "      <td>1</td>\n",
       "      <td>1</td>\n",
       "      <td>0</td>\n",
       "      <td>1</td>\n",
       "      <td>0</td>\n",
       "      <td>0</td>\n",
       "      <td>-3</td>\n",
       "      <td>False</td>\n",
       "      <td>False</td>\n",
       "      <td>False</td>\n",
       "      <td>False</td>\n",
       "      <td>False</td>\n",
       "      <td>False</td>\n",
       "      <td>1.153258</td>\n",
       "    </tr>\n",
       "    <tr>\n",
       "      <th>1</th>\n",
       "      <td>1</td>\n",
       "      <td>1</td>\n",
       "      <td>0</td>\n",
       "      <td>1</td>\n",
       "      <td>1</td>\n",
       "      <td>1</td>\n",
       "      <td>1</td>\n",
       "      <td>1</td>\n",
       "      <td>1</td>\n",
       "      <td>0</td>\n",
       "      <td>0</td>\n",
       "      <td>+2</td>\n",
       "      <td>False</td>\n",
       "      <td>False</td>\n",
       "      <td>False</td>\n",
       "      <td>False</td>\n",
       "      <td>False</td>\n",
       "      <td>False</td>\n",
       "      <td>0.449839</td>\n",
       "    </tr>\n",
       "    <tr>\n",
       "      <th>2</th>\n",
       "      <td>0</td>\n",
       "      <td>1</td>\n",
       "      <td>1</td>\n",
       "      <td>1</td>\n",
       "      <td>1</td>\n",
       "      <td>1</td>\n",
       "      <td>0</td>\n",
       "      <td>1</td>\n",
       "      <td>1</td>\n",
       "      <td>1</td>\n",
       "      <td>0</td>\n",
       "      <td>+1</td>\n",
       "      <td>False</td>\n",
       "      <td>False</td>\n",
       "      <td>False</td>\n",
       "      <td>False</td>\n",
       "      <td>False</td>\n",
       "      <td>False</td>\n",
       "      <td>1.223600</td>\n",
       "    </tr>\n",
       "    <tr>\n",
       "      <th>3</th>\n",
       "      <td>1</td>\n",
       "      <td>1</td>\n",
       "      <td>0</td>\n",
       "      <td>1</td>\n",
       "      <td>1</td>\n",
       "      <td>1</td>\n",
       "      <td>1</td>\n",
       "      <td>1</td>\n",
       "      <td>0</td>\n",
       "      <td>0</td>\n",
       "      <td>1</td>\n",
       "      <td>+4</td>\n",
       "      <td>False</td>\n",
       "      <td>False</td>\n",
       "      <td>False</td>\n",
       "      <td>True</td>\n",
       "      <td>False</td>\n",
       "      <td>False</td>\n",
       "      <td>1.715993</td>\n",
       "    </tr>\n",
       "    <tr>\n",
       "      <th>4</th>\n",
       "      <td>0</td>\n",
       "      <td>1</td>\n",
       "      <td>0</td>\n",
       "      <td>1</td>\n",
       "      <td>1</td>\n",
       "      <td>1</td>\n",
       "      <td>1</td>\n",
       "      <td>0</td>\n",
       "      <td>0</td>\n",
       "      <td>1</td>\n",
       "      <td>0</td>\n",
       "      <td>+2</td>\n",
       "      <td>False</td>\n",
       "      <td>False</td>\n",
       "      <td>True</td>\n",
       "      <td>False</td>\n",
       "      <td>False</td>\n",
       "      <td>True</td>\n",
       "      <td>0.309156</td>\n",
       "    </tr>\n",
       "  </tbody>\n",
       "</table>\n",
       "</div>"
      ],
      "text/plain": [
       "   yummy  convenient  spicy  fattening  greasy  fast  cheap  tasty  expensive  \\\n",
       "0      0           1      0          1       0     1      1      0          1   \n",
       "1      1           1      0          1       1     1      1      1          1   \n",
       "2      0           1      1          1       1     1      0      1          1   \n",
       "3      1           1      0          1       1     1      1      1          0   \n",
       "4      0           1      0          1       1     1      1      0          0   \n",
       "\n",
       "   healthy  disgusting Like  VisitFrequency_More than once a week  \\\n",
       "0        0           0   -3                                 False   \n",
       "1        0           0   +2                                 False   \n",
       "2        1           0   +1                                 False   \n",
       "3        0           1   +4                                 False   \n",
       "4        1           0   +2                                 False   \n",
       "\n",
       "   VisitFrequency_Never  VisitFrequency_Once a month  \\\n",
       "0                 False                        False   \n",
       "1                 False                        False   \n",
       "2                 False                        False   \n",
       "3                 False                        False   \n",
       "4                 False                         True   \n",
       "\n",
       "   VisitFrequency_Once a week  VisitFrequency_Once a year  Gender_Male  \\\n",
       "0                       False                       False        False   \n",
       "1                       False                       False        False   \n",
       "2                       False                       False        False   \n",
       "3                        True                       False        False   \n",
       "4                       False                       False         True   \n",
       "\n",
       "   Age_Scaled  \n",
       "0    1.153258  \n",
       "1    0.449839  \n",
       "2    1.223600  \n",
       "3    1.715993  \n",
       "4    0.309156  "
      ]
     },
     "execution_count": 21,
     "metadata": {},
     "output_type": "execute_result"
    }
   ],
   "source": [
    "mac_donalds_data"
   ]
  },
  {
   "cell_type": "markdown",
   "id": "6974279c-fb47-43a7-9d48-a9e2885f45e6",
   "metadata": {},
   "source": [
    "#### Feature Preparation"
   ]
  },
  {
   "cell_type": "code",
   "execution_count": 23,
   "id": "337a034a-81a2-4f89-8c11-4b2274907a24",
   "metadata": {},
   "outputs": [],
   "source": [
    "X = mac_donalds_data.drop(columns=['Like'])"
   ]
  },
  {
   "cell_type": "markdown",
   "id": "5447ddc3-3905-44b8-9869-3b483af6affb",
   "metadata": {},
   "source": [
    "#### Clustering"
   ]
  },
  {
   "cell_type": "code",
   "execution_count": 28,
   "id": "4717cc45-0f7a-405f-9e14-7d35d99909ff",
   "metadata": {},
   "outputs": [],
   "source": [
    "from sklearn.cluster import KMeans\n",
    "\n",
    "# Fit K-Means\n",
    "kmeans = KMeans(n_clusters=3, random_state=42)\n",
    "mac_donalds_data['Cluster'] = kmeans.fit_predict(X)"
   ]
  },
  {
   "cell_type": "code",
   "execution_count": 37,
   "id": "7bccf941-f731-4842-8f7a-41b96f974db4",
   "metadata": {},
   "outputs": [
    {
     "name": "stdout",
     "output_type": "stream",
     "text": [
      "Cluster 2:\n",
      "yummy         0.000000\n",
      "convenient    1.000000\n",
      "spicy         0.000000\n",
      "fattening     1.000000\n",
      "greasy        0.000000\n",
      "fast          1.000000\n",
      "cheap         1.000000\n",
      "tasty         0.000000\n",
      "expensive     1.000000\n",
      "healthy       0.000000\n",
      "disgusting    0.000000\n",
      "Age_Scaled    1.153258\n",
      "Cluster       2.000000\n",
      "dtype: float64\n",
      "Cluster 0:\n",
      "yummy         0.666667\n",
      "convenient    1.000000\n",
      "spicy         0.333333\n",
      "fattening     1.000000\n",
      "greasy        1.000000\n",
      "fast          1.000000\n",
      "cheap         0.666667\n",
      "tasty         1.000000\n",
      "expensive     0.666667\n",
      "healthy       0.333333\n",
      "disgusting    0.333333\n",
      "Age_Scaled    1.129811\n",
      "Cluster       0.000000\n",
      "dtype: float64\n",
      "Cluster 1:\n",
      "yummy         0.000000\n",
      "convenient    1.000000\n",
      "spicy         0.000000\n",
      "fattening     1.000000\n",
      "greasy        1.000000\n",
      "fast          1.000000\n",
      "cheap         1.000000\n",
      "tasty         0.000000\n",
      "expensive     0.000000\n",
      "healthy       1.000000\n",
      "disgusting    0.000000\n",
      "Age_Scaled    0.309156\n",
      "Cluster       1.000000\n",
      "dtype: float64\n"
     ]
    }
   ],
   "source": [
    "for cluster in mac_donalds_data['Cluster'].unique():\n",
    "    print(f\"Cluster {cluster}:\")\n",
    "    cluster_data = mac_donalds_data[mac_donalds_data['Cluster'] == cluster]\n",
    "    numeric_data = cluster_data.select_dtypes(include='number')\n",
    "    print(numeric_data.mean())\n"
   ]
  },
  {
   "cell_type": "code",
   "execution_count": 31,
   "id": "085153ad-e239-4a97-9836-f4d43324aa3d",
   "metadata": {},
   "outputs": [
    {
     "data": {
      "image/png": "[encoded data removed]",
      "text/plain": [
       "<Figure size 640x480 with 2 Axes>"
      ]
     },
     "metadata": {},
     "output_type": "display_data"
    }
   ],
   "source": [
    "from sklearn.decomposition import PCA\n",
    "import matplotlib.pyplot as plt\n",
    "\n",
    "pca = PCA(n_components=2)\n",
    "X_reduced = pca.fit_transform(X)\n",
    "\n",
    "plt.scatter(X_reduced[:, 0], X_reduced[:, 1], c=mac_donalds_data['Cluster'], cmap='viridis')\n",
    "plt.colorbar()\n",
    "plt.show()"
   ]
  },
  {
   "cell_type": "code",
   "execution_count": 33,
   "id": "85db6174-3161-4817-bd7b-1237bb976912",
   "metadata": {},
   "outputs": [
    {
     "name": "stdout",
     "output_type": "stream",
     "text": [
      "Silhouette Score: -0.03307767285343059\n"
     ]
    }
   ],
   "source": [
    "from sklearn.metrics import silhouette_score\n",
    "\n",
    "score = silhouette_score(X, mac_donalds_data['Cluster'])\n",
    "print(\"Silhouette Score:\", score)\n"
   ]
  }
 ],
 "metadata": {
  "kernelspec": {
   "display_name": "Python 3 (ipykernel)",
   "language": "python",
   "name": "python3"
  },
  "language_info": {
   "codemirror_mode": {
    "name": "ipython",
    "version": 3
   },
   "file_extension": ".py",
   "mimetype": "text/x-python",
   "name": "python",
   "nbconvert_exporter": "python",
   "pygments_lexer": "ipython3",
   "version": "3.12.2"
  }
 },
 "nbformat": 4,
 "nbformat_minor": 5
}
