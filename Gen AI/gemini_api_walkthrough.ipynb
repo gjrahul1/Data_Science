{
 "cells": [
  {
   "cell_type": "code",
   "execution_count": 2,
   "id": "7dcc67e6-2b6e-407d-a0db-e9a80b703d9a",
   "metadata": {},
   "outputs": [],
   "source": [
    "#Import GenAI\n",
    "import google.generativeai as genai"
   ]
  },
  {
   "cell_type": "code",
   "execution_count": null,
   "id": "94578a63-a06a-4f19-be69-059b5794bed5",
   "metadata": {},
   "outputs": [],
   "source": [
    "#Configure GenAI\n",
    "genai.configure(api_key='your_gemini_api_key')"
   ]
  },
  {
   "cell_type": "code",
   "execution_count": 5,
   "id": "5af74860-1807-4f27-8677-107af1438a17",
   "metadata": {},
   "outputs": [
    {
     "name": "stdout",
     "output_type": "stream",
     "text": [
      "models/chat-bison-001\n",
      "models/text-bison-001\n",
      "models/embedding-gecko-001\n",
      "models/gemini-1.0-pro-latest\n",
      "models/gemini-1.0-pro\n",
      "models/gemini-pro\n",
      "models/gemini-1.0-pro-001\n",
      "models/gemini-1.0-pro-vision-latest\n",
      "models/gemini-pro-vision\n",
      "models/gemini-1.5-pro-latest\n",
      "models/gemini-1.5-pro-001\n",
      "models/gemini-1.5-pro-002\n",
      "models/gemini-1.5-pro\n",
      "models/gemini-1.5-flash-latest\n",
      "models/gemini-1.5-flash-001\n",
      "models/gemini-1.5-flash-001-tuning\n",
      "models/gemini-1.5-flash\n",
      "models/gemini-1.5-flash-002\n",
      "models/gemini-1.5-flash-8b\n",
      "models/gemini-1.5-flash-8b-001\n",
      "models/gemini-1.5-flash-8b-latest\n",
      "models/gemini-1.5-flash-8b-exp-0827\n",
      "models/gemini-1.5-flash-8b-exp-0924\n",
      "models/gemini-2.0-flash-exp\n",
      "models/gemini-2.0-flash\n",
      "models/gemini-2.0-flash-001\n",
      "models/gemini-2.0-flash-lite-preview\n",
      "models/gemini-2.0-flash-lite-preview-02-05\n",
      "models/gemini-2.0-pro-exp\n",
      "models/gemini-2.0-pro-exp-02-05\n",
      "models/gemini-exp-1206\n",
      "models/gemini-2.0-flash-thinking-exp-01-21\n",
      "models/gemini-2.0-flash-thinking-exp\n",
      "models/gemini-2.0-flash-thinking-exp-1219\n",
      "models/learnlm-1.5-pro-experimental\n",
      "models/embedding-001\n",
      "models/text-embedding-004\n",
      "models/aqa\n",
      "models/imagen-3.0-generate-002\n"
     ]
    }
   ],
   "source": [
    "for m in genai.list_models():\n",
    "    print(m.name)"
   ]
  },
  {
   "cell_type": "code",
   "execution_count": 6,
   "id": "305f5af8-cd08-41c7-b12f-5ebb859aa900",
   "metadata": {},
   "outputs": [],
   "source": [
    "#Pick a model\n",
    "\n",
    "model = genai.GenerativeModel(model_name='models/gemini-2.0-pro-exp')\n",
    "\n",
    "user_prompt = \"\"\"\n",
    "Complete the following:\n",
    "In our solar system, Earth is a \n",
    "\"\"\"\n",
    "\n",
    "response = model.generate_content(user_prompt)"
   ]
  },
  {
   "cell_type": "code",
   "execution_count": 8,
   "id": "53e4ccdd-0809-4add-8cc1-472e4e5a958f",
   "metadata": {},
   "outputs": [
    {
     "data": {
      "text/markdown": [
       "In our solar system, Earth is a **planet, specifically the third planet from the Sun.**\n"
      ],
      "text/plain": [
       "<IPython.core.display.Markdown object>"
      ]
     },
     "execution_count": 8,
     "metadata": {},
     "output_type": "execute_result"
    }
   ],
   "source": [
    "from IPython.display import Markdown\n",
    "\n",
    "Markdown(response.text)"
   ]
  },
  {
   "cell_type": "code",
   "execution_count": 9,
   "id": "e3e59fef-c327-4af5-a26b-7b5502683000",
   "metadata": {},
   "outputs": [],
   "source": [
    "#Pick a model\n",
    "\n",
    "model = genai.GenerativeModel(model_name='models/gemini-2.0-pro-exp')\n",
    "\n",
    "user_prompt = \"\"\"\n",
    "Generate some factual information to complete the following in 2-3 lines:\n",
    "In our solar system, Earth is a \n",
    "\"\"\"\n",
    "\n",
    "response = model.generate_content(user_prompt)"
   ]
  },
  {
   "cell_type": "code",
   "execution_count": 10,
   "id": "a1bee30c-f539-422a-9578-fe5741d0c3c4",
   "metadata": {},
   "outputs": [
    {
     "data": {
      "text/markdown": [
       "In our solar system, Earth is a **terrestrial planet, the third planet from the Sun, and the only known celestial body to harbor life.** It is characterized by abundant liquid water, a dynamic atmosphere, and a diverse range of ecosystems.\n"
      ],
      "text/plain": [
       "<IPython.core.display.Markdown object>"
      ]
     },
     "execution_count": 10,
     "metadata": {},
     "output_type": "execute_result"
    }
   ],
   "source": [
    "from IPython.display import Markdown\n",
    "\n",
    "Markdown(response.text)"
   ]
  },
  {
   "cell_type": "code",
   "execution_count": null,
   "id": "be7c5045-b2dd-40d3-9e9c-9ff6a73c7454",
   "metadata": {},
   "outputs": [],
   "source": []
  }
 ],
 "metadata": {
  "kernelspec": {
   "display_name": "Python 3 (ipykernel)",
   "language": "python",
   "name": "python3"
  },
  "language_info": {
   "codemirror_mode": {
    "name": "ipython",
    "version": 3
   },
   "file_extension": ".py",
   "mimetype": "text/x-python",
   "name": "python",
   "nbconvert_exporter": "python",
   "pygments_lexer": "ipython3",
   "version": "3.10.16"
  }
 },
 "nbformat": 4,
 "nbformat_minor": 5
}
