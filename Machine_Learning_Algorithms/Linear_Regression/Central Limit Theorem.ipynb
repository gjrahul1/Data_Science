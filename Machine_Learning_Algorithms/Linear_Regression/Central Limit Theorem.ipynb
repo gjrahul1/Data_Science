{
 "cells": [
  {
   "cell_type": "markdown",
   "id": "491c002d-f5b0-4e1e-a8a7-3b9bb58dd857",
   "metadata": {},
   "source": [
    "#### Central Limit Theorem\n",
    "- Central Limit Theorem also known as Mean"
   ]
  },
  {
   "cell_type": "code",
   "execution_count": 1,
   "id": "38c638d6-a13b-427f-9b5f-3fc0d3575ecf",
   "metadata": {},
   "outputs": [],
   "source": [
    "from numpy.random import seed,randint\n",
    "from numpy import mean"
   ]
  },
  {
   "cell_type": "markdown",
   "id": "e30d5887-de7e-46f3-aa8a-e70b570098f5",
   "metadata": {},
   "source": [
    "- Seeding the time"
   ]
  },
  {
   "cell_type": "code",
   "execution_count": 2,
   "id": "c273a2fa-6979-41ec-9be9-17a9ba363ee7",
   "metadata": {},
   "outputs": [],
   "source": [
    "#Seed\n",
    "seed(1)"
   ]
  },
  {
   "cell_type": "markdown",
   "id": "3a226586-b6cc-45fe-ac26-8c78a3959a33",
   "metadata": {},
   "source": [
    "- Generate 50 different samples between 1 to 7"
   ]
  },
  {
   "cell_type": "code",
   "execution_count": 5,
   "id": "4b697fe5-b2c5-4495-86fa-e55bbdf40bd5",
   "metadata": {},
   "outputs": [
    {
     "name": "stdout",
     "output_type": "stream",
     "text": [
      "[6 4 6 1 4 5 4 5 5 6 5 2 1 5 3 1 6 3 5 2 2 1 3 5 5 1 5 2 5 2 1 3 4 2 3 5 5\n",
      " 3 3 1 2 3 3 1 6 2 3 5 1 6]\n"
     ]
    }
   ],
   "source": [
    "#Generate a sample of die rolls\n",
    "rolls = randint(1,7,50)\n",
    "print(rolls)"
   ]
  },
  {
   "cell_type": "code",
   "execution_count": 6,
   "id": "0d226e8c-0cb5-4624-b8aa-87bb4794806b",
   "metadata": {},
   "outputs": [
    {
     "name": "stdout",
     "output_type": "stream",
     "text": [
      "3.44\n"
     ]
    }
   ],
   "source": [
    "#Mean\n",
    "print(mean(rolls))"
   ]
  },
  {
   "cell_type": "code",
   "execution_count": 13,
   "id": "7cd92d72-e308-4051-8ffb-ba5ae7ce8838",
   "metadata": {},
   "outputs": [
    {
     "data": {
      "image/png": "[encoded data removed]",
      "text/plain": [
       "<Figure size 640x480 with 1 Axes>"
      ]
     },
     "metadata": {},
     "output_type": "display_data"
    }
   ],
   "source": [
    "from matplotlib import pyplot as plt\n",
    "means = [mean(randint(1,7,50)) for _ in range(1000)]\n",
    "plt.hist(means,bins=250)\n",
    "plt.show()"
   ]
  },
  {
   "cell_type": "markdown",
   "id": "e7a8f7a9-2623-4e6b-a411-41eb7aaeb348",
   "metadata": {},
   "source": [
    "### Conclusion"
   ]
  },
  {
   "cell_type": "code",
   "execution_count": null,
   "id": "cd1538fd-cdf0-46c7-ab1a-faa6111718e4",
   "metadata": {},
   "outputs": [],
   "source": []
  }
 ],
 "metadata": {
  "kernelspec": {
   "display_name": "Python 3 (ipykernel)",
   "language": "python",
   "name": "python3"
  },
  "language_info": {
   "codemirror_mode": {
    "name": "ipython",
    "version": 3
   },
   "file_extension": ".py",
   "mimetype": "text/x-python",
   "name": "python",
   "nbconvert_exporter": "python",
   "pygments_lexer": "ipython3",
   "version": "3.12.2"
  }
 },
 "nbformat": 4,
 "nbformat_minor": 5
}
