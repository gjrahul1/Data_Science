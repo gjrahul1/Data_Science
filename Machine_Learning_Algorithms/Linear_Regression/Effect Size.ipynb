{
 "cells": [
  {
   "cell_type": "markdown",
   "id": "d4e390d2-109f-4977-b546-f09004c8b578",
   "metadata": {},
   "source": [
    "### Effect Size\n",
    "- Statistics hypothesis reports on likelihood of the oberseved results given an assumption such as no association between variables or difference between groups.\n",
    "- Hypothesis tests do not comment on the size of the effect if the association or difference is statistically significant.\n",
    "- Effect size for quantifying the association between variables, such as Pearson's correlation coefficient.\n",
    "- Effect size measures for quantifying the difference between groups, such as Cohen's d measures."
   ]
  },
  {
   "cell_type": "markdown",
   "id": "e61d83ca-2dc6-4d14-be8f-85ca1dd68e7b",
   "metadata": {},
   "source": [
    "##### Two main groups for calculating the effect size:\n",
    "- <b>Association:</b> Statistical methods for quantifying an association between variables (eg: correation)\n",
    "- <b>Difference:</b> Statistical methods for quantifying the difference between variables (eg: difference between means)"
   ]
  },
  {
   "cell_type": "markdown",
   "id": "71a68ba2-932a-441e-bbf8-ea8c2abcc60a",
   "metadata": {},
   "source": [
    "#####  Pearson’s correlation coeﬃcient\n",
    "The Pearson’s correlation coeﬃcient measures the degree of linear association between two real-valued variables. It is a unit-free eﬀect size measure, that can be interpreted in a standard way, as follows:\n",
    "- -1.0: Perfect negative relationship.\n",
    "- -0.7: Strong negative relationship\n",
    "- -0.5: Moderate negative relationship\n",
    "- -0.3: Weak negative relationship\n",
    "- 0.0: No relationship.\n",
    "- 0.3: Weak positive relationship\n",
    "- 0.5: Moderate positive relationship\n",
    "- 0.7: Strong positive relationship\n",
    "- 1.0: Perfect positive relationship."
   ]
  },
  {
   "cell_type": "code",
   "execution_count": 2,
   "id": "cce2b223-8bc5-4451-8fcf-a7d5a6aba1c1",
   "metadata": {},
   "outputs": [],
   "source": [
    "from numpy.random import randn,seed\n",
    "from scipy.stats import pearsonr\n",
    "\n",
    "#Seed\n",
    "seed(1)"
   ]
  },
  {
   "cell_type": "code",
   "execution_count": 3,
   "id": "b351f021-8342-4b55-aa83-712b64263e2b",
   "metadata": {},
   "outputs": [],
   "source": [
    "#Prepare data\n",
    "data1 = 10 * randn(1000) + 50\n",
    "data2 = data1 + (10 * randn(1000) + 50)"
   ]
  },
  {
   "cell_type": "code",
   "execution_count": 7,
   "id": "dde9dc76-a477-4876-b966-d6fb528f40f8",
   "metadata": {},
   "outputs": [
    {
     "name": "stdout",
     "output_type": "stream",
     "text": [
      "Pearson Correlation 0.698\n"
     ]
    }
   ],
   "source": [
    "#Calculate pearson's correlation\n",
    "corr,_ = pearsonr(data1,data2)\n",
    "print('Pearson Correlation %.3f'%(corr))"
   ]
  },
  {
   "cell_type": "markdown",
   "id": "1246dcb5-fd1f-46f6-91cb-e0264199ef03",
   "metadata": {},
   "source": [
    "We can see that the pearson correlation is positive between two features"
   ]
  },
  {
   "cell_type": "markdown",
   "id": "9c6a28ad-b084-438e-95b2-6d7cecb260a0",
   "metadata": {},
   "source": [
    "#### Calculate Diﬀerence Eﬀect Size\n",
    "- Cohen’s d measures the diﬀerence between the mean from two Gaussian-distributed variables.\n",
    "\n",
    "| Effect Size | Cohen's d |\n",
    "|-------------|-----------|\n",
    "| Small       | 0.20      |\n",
    "| Medium      | 0.50      |\n",
    "| Large       | 0.80      |\n",
    "\n",
    "##### Cohen's d formaula:\n",
    "\n",
    "d = (µ₁ − µ₂) / s\n",
    "\n",
    "s = sqrt(((n₁ − 1) * s₁² + (n₂ − 1) * s₂²) / (n₁ + n₂ − 2))\n",
    "\n",
    "- There is no built in function for Cohen's formula, let's write the function"
   ]
  },
  {
   "cell_type": "code",
   "execution_count": 8,
   "id": "743b9614-64a5-4011-a21d-c2a154f322fb",
   "metadata": {},
   "outputs": [],
   "source": [
    "from numpy.random import randn,seed\n",
    "from numpy import var,mean,sqrt\n",
    "\n",
    "def cohend(d1,d2):\n",
    "    #calculate the size of the samples\n",
    "    n1,n2 = len(d1), len(d2)\n",
    "\n",
    "    #calculate the variance of the samples\n",
    "    s1,s2 = var(d1,ddof=1), var(d2,ddof=1)\n",
    "\n",
    "    #calculate the pooled standard deviation\n",
    "    s = sqrt(((n1-1)*s1 + (n2-1)*s2) / (n1 + n2 -2))\n",
    "\n",
    "    #Calculate the means of the samples\n",
    "    u1, u2 = mean(d1), mean(d2)\n",
    "\n",
    "    #Calculate the effect size\n",
    "    return (u1 - u2) / s"
   ]
  },
  {
   "cell_type": "code",
   "execution_count": 9,
   "id": "140d3b70-ed18-4fd8-99aa-89e51c778ea2",
   "metadata": {},
   "outputs": [
    {
     "name": "stdout",
     "output_type": "stream",
     "text": [
      "Cohend: 0.9832261114114446\n"
     ]
    }
   ],
   "source": [
    "#Prepare data\n",
    "data1 = 10 * randn(1000) + 60\n",
    "data2 = 10 * randn(1000) + 50\n",
    "\n",
    "print(\"Cohend:\",cohend(data1,data2))"
   ]
  },
  {
   "cell_type": "markdown",
   "id": "bd2d91ae-d83c-4b37-93e6-ea74ef500adf",
   "metadata": {},
   "source": [
    "#### Conclusion\n",
    "- In this notebook, we have discussed Pearson-coefficient to find the similarilty between realtionships\n",
    "- Cohend's d to find the difference between the mean of the samples or in other words difference between the relationship"
   ]
  }
 ],
 "metadata": {
  "kernelspec": {
   "display_name": "Python 3 (ipykernel)",
   "language": "python",
   "name": "python3"
  },
  "language_info": {
   "codemirror_mode": {
    "name": "ipython",
    "version": 3
   },
   "file_extension": ".py",
   "mimetype": "text/x-python",
   "name": "python",
   "nbconvert_exporter": "python",
   "pygments_lexer": "ipython3",
   "version": "3.12.2"
  }
 },
 "nbformat": 4,
 "nbformat_minor": 5
}
